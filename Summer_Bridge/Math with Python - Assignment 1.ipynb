{
 "cells": [
  {
   "cell_type": "markdown",
   "id": "2a62ae03",
   "metadata": {},
   "source": [
    "Questions are from \"Doing Math with Python\" by Amit Saha"
   ]
  },
  {
   "cell_type": "markdown",
   "id": "b3f70acc",
   "metadata": {},
   "source": [
    "# Imports"
   ]
  },
  {
   "cell_type": "code",
   "execution_count": 1,
   "id": "81d9e71c",
   "metadata": {},
   "outputs": [],
   "source": [
    "import pandas \n",
    "import numpy\n",
    "import matplotlib.pyplot as plt\n",
    "import math\n",
    "from sympy import Poly,Symbol,solve_poly_inequality,sympify,solve_rational_inequalities,solve_univariate_inequality,sin\n",
    "import random"
   ]
  },
  {
   "cell_type": "markdown",
   "id": "d42094bb",
   "metadata": {},
   "source": [
    "# Problem 1\n",
    "Programming Challenge 1 page 22, Even-Odd Vending Machine"
   ]
  },
  {
   "cell_type": "code",
   "execution_count": 2,
   "id": "a1fdcc52",
   "metadata": {},
   "outputs": [],
   "source": [
    "def even_odd_machine(n):\n",
    "    if n % 2 == 0:\n",
    "        return 'even'\n",
    "    else:\n",
    "        return 'odd'"
   ]
  },
  {
   "cell_type": "code",
   "execution_count": 3,
   "id": "fc354f07",
   "metadata": {},
   "outputs": [
    {
     "name": "stdout",
     "output_type": "stream",
     "text": [
      "odd\n",
      "even\n"
     ]
    }
   ],
   "source": [
    "print(even_odd_machine(3))\n",
    "print(even_odd_machine(4))"
   ]
  },
  {
   "cell_type": "markdown",
   "id": "89a19907",
   "metadata": {},
   "source": [
    "# Problem 2\n",
    "Programming Challenge 2 page 55, Exploring a Quadratic Function Visually"
   ]
  },
  {
   "cell_type": "code",
   "execution_count": 4,
   "id": "e3d0817d",
   "metadata": {},
   "outputs": [],
   "source": [
    "def plot_quadratic(x_values):\n",
    "    y_values = [x**2+2*x+1 for x in x_values]\n",
    "    plt.figure(figsize=(10,8))\n",
    "    plt.scatter(x_values, y_values, label='Points')\n",
    "    plt.plot(x_values, y_values, label='Graph')\n",
    "    plt.xlabel('x', fontweight='bold')\n",
    "    plt.ylabel('y', fontweight='bold')\n",
    "    plt.title('Graph of x^2+2x+1', fontweight='bold')\n",
    "    plt.legend()\n",
    "    plt.show()"
   ]
  },
  {
   "cell_type": "code",
   "execution_count": 5,
   "id": "83f86b7a",
   "metadata": {},
   "outputs": [
    {
     "data": {
      "image/png": "[encoded data removed]",
      "text/plain": [
       "<Figure size 720x576 with 1 Axes>"
      ]
     },
     "metadata": {
      "needs_background": "light"
     },
     "output_type": "display_data"
    }
   ],
   "source": [
    "x_values = [-7, -6, -5,-4, -3, -2, -1, 0, 1, 2, 3, 4, 5]\n",
    "plot_quadratic(x_values)\n",
    "# The graph below is a quadratic, and is thus non-linear"
   ]
  },
  {
   "cell_type": "markdown",
   "id": "e1af8289",
   "metadata": {},
   "source": [
    "# Problem 3\n",
    "Programming Challenge 2 page 89, Statistics Calculator"
   ]
  },
  {
   "cell_type": "code",
   "execution_count": 6,
   "id": "4960248c",
   "metadata": {},
   "outputs": [],
   "source": [
    "def mean(data):\n",
    "    return sum(data)/len(data)\n",
    "\n",
    "def median(data):\n",
    "    split = int(len(data) / 2)\n",
    "    if even_odd_machine(len(data)) == 'even':\n",
    "        return (data[split] + data[split-1]) / 2\n",
    "    else:\n",
    "        return data[split]\n",
    "\n",
    "def mode(data):\n",
    "    counts = {}\n",
    "    for n in data:\n",
    "        if n not in counts:\n",
    "            counts[n] = 1\n",
    "        else:\n",
    "            counts[n] += 1\n",
    "\n",
    "    return max(counts, key=counts.get)\n",
    "\n",
    "def variance(data):\n",
    "    avg = mean(data)\n",
    "    sum_of_square_diffs = 0\n",
    "    for n in data:\n",
    "        sum_of_square_diffs += (n - avg)**2\n",
    "    return sum_of_square_diffs / len(data)\n",
    "\n",
    "def std_dev(data):\n",
    "    return math.sqrt(variance(data))\n",
    "\n",
    "def read_txt_file(filename):\n",
    "    data_list = []\n",
    "    with open(filename) as f:\n",
    "        for line in f:\n",
    "            data_list.append(int(line))\n",
    "    return data_list\n",
    "\n",
    "def stats_calculator(filename):\n",
    "    data = read_txt_file(filename)\n",
    "    print('Data: %s' % str(data))\n",
    "    print('Mean: %f' % mean(data))\n",
    "    print('Median: %f' % median(data))\n",
    "    print('Mode: %f' % median(data))\n",
    "    print('Variance: %f' % variance(data))\n",
    "    print('Standard Deviation: %f' % std_dev(data))"
   ]
  },
  {
   "cell_type": "code",
   "execution_count": 7,
   "id": "dc5af982",
   "metadata": {},
   "outputs": [
    {
     "name": "stdout",
     "output_type": "stream",
     "text": [
      "Data: [2, 2, 3, 5, 5, 5, 9, 12, 12, 15]\n",
      "Mean: 7.000000\n",
      "Median: 5.000000\n",
      "Mode: 5.000000\n",
      "Variance: 19.600000\n",
      "Standard Deviation: 4.427189\n"
     ]
    }
   ],
   "source": [
    "stats_calculator('sample_data.txt')"
   ]
  },
  {
   "cell_type": "markdown",
   "id": "96fc6b39",
   "metadata": {},
   "source": [
    "# Problem 4\n",
    "Programming Challenge 4 page 117, Solving Single-Variable Inequalities"
   ]
  },
  {
   "cell_type": "code",
   "execution_count": 8,
   "id": "6b838d28",
   "metadata": {},
   "outputs": [],
   "source": [
    "def determine_type(expr):\n",
    "    '''Returns solution to an inequality given a string representation of said\n",
    "    inequality. The inequality must be so that the right hand side is always 0.\n",
    "    '''\n",
    "    if expr.is_polynomial() is True:\n",
    "        return 'polynomial'\n",
    "    elif expr.is_rational_function() is True:\n",
    "        return 'rational'\n",
    "    else:\n",
    "        return 'univariate'\n",
    "\n",
    "def isolve(ineq_str):\n",
    "    x = Symbol('x')\n",
    "    ineq_obj = sympify(ineq_str)\n",
    "    lhs = ineq_obj.lhs\n",
    "    rel = ineq_obj.rel_op\n",
    "\n",
    "    eqn_type = determine_type(lhs)\n",
    "    if eqn_type == 'polynomial':\n",
    "        p = Poly(lhs, x)\n",
    "        return solve_poly_inequality(p, rel)\n",
    "    elif eqn_type == 'rational':\n",
    "        numer,denom = lhs.as_numer_denom()\n",
    "        p1 = Poly(numer)\n",
    "        p2 = Poly(denom)\n",
    "        return solve_rational_inequalities([[((p1, p2), rel)]])\n",
    "    else:\n",
    "        return solve_univariate_inequality(ineq_obj,x,relational=False)"
   ]
  },
  {
   "cell_type": "code",
   "execution_count": 9,
   "id": "121aef82",
   "metadata": {},
   "outputs": [
    {
     "name": "stdout",
     "output_type": "stream",
     "text": [
      "[Interval.open(-oo, -2), Interval.open(2, oo)]\n",
      "Union(Interval.open(-oo, -2), Interval.open(1, oo))\n",
      "Interval.open(0.643501108793284, -0.643501108793284 + pi)\n"
     ]
    }
   ],
   "source": [
    "print(isolve('-x**2+4 < 0'))\n",
    "print(isolve('(x-1)/(x+2) > 0'))\n",
    "print(isolve('sin(x)-0.6 > 0'))"
   ]
  },
  {
   "cell_type": "markdown",
   "id": "9ea9c01a",
   "metadata": {},
   "source": [
    "# Problem 5 \n",
    "Programming Challenge 2 page 143, Law of Large Numbers"
   ]
  },
  {
   "cell_type": "code",
   "execution_count": 10,
   "id": "55110c80",
   "metadata": {},
   "outputs": [],
   "source": [
    "def dice_ev_calculator(trials):\n",
    "    total = 0 \n",
    "    for i in range(trials):\n",
    "        total += random.randint(1,6)\n",
    "    return total / trials"
   ]
  },
  {
   "cell_type": "code",
   "execution_count": 11,
   "id": "81da15aa",
   "metadata": {},
   "outputs": [
    {
     "name": "stdout",
     "output_type": "stream",
     "text": [
      "Expected value: 3.5\n",
      "100 Trials: 3.640000\n",
      "1000 Trials: 3.457000\n",
      "10000 Trials: 3.509000\n",
      "100000 Trials: 3.506540\n",
      "500000 Trials: 3.501756\n"
     ]
    }
   ],
   "source": [
    "trial_list = [100, 1000, 10000, 100000, 500000]\n",
    "\n",
    "print('Expected value: 3.5')\n",
    "for trials in trial_list:\n",
    "    print('%d Trials: %f' % (trials, dice_ev_calculator(trials)))\n",
    "\n",
    "# as expected, the mean value gets closer to the true EV w/ more trials"
   ]
  },
  {
   "cell_type": "code",
   "execution_count": null,
   "id": "0ca60dc9",
   "metadata": {},
   "outputs": [],
   "source": []
  }
 ],
 "metadata": {
  "kernelspec": {
   "display_name": "Python 3",
   "language": "python",
   "name": "python3"
  },
  "language_info": {
   "codemirror_mode": {
    "name": "ipython",
    "version": 3
   },
   "file_extension": ".py",
   "mimetype": "text/x-python",
   "name": "python",
   "nbconvert_exporter": "python",
   "pygments_lexer": "ipython3",
   "version": "3.9.12"
  }
 },
 "nbformat": 4,
 "nbformat_minor": 5
}
