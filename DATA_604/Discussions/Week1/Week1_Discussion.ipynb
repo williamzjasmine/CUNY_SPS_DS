{
 "cells": [
  {
   "cell_type": "markdown",
   "id": "677c4bc1",
   "metadata": {},
   "source": [
    "# Week 1 Discussion - Simulate Monty Hall Problem\n",
    "\n",
    "The purpose of this notebook is to simulate the infamous, Monty Hall (game show host) problem. A description of the gameshow is as follows: \n",
    "\n",
    "<i>\"Monty Hall asks you to choose one of three doors. One of the doors hides a prize and the other two doors have no prize. You state out loud which door you pick, but you don’t open it right away. Monty opens one of the other two doors, and there is no prize behind it. At this moment, there are two closed doors, one of which you picked. The prize is behind one of the closed doors, but you don’t know which one. Monty asks you, “Do you want to switch doors?”</i>\n",
    "\n",
    "The question is whether or not it is in your best interest to switch doors. Most people assume yes, but think its because your probability of winning raises from 33% (the probability of winning without switching) to 50%. In actuality, switching actually doubles your chances of winning all the way to 66%! The simulation below will show this computationally: "
   ]
  },
  {
   "cell_type": "code",
   "execution_count": 1,
   "id": "0e3c6d92",
   "metadata": {},
   "outputs": [],
   "source": [
    "# import necessary packages\n",
    "\n",
    "import pandas as pd\n",
    "import matplotlib.pyplot as plt\n",
    "import random"
   ]
  },
  {
   "cell_type": "code",
   "execution_count": 2,
   "id": "0af7056a",
   "metadata": {},
   "outputs": [],
   "source": [
    "# run simulation using both methodologies (switching vs. not switching) for 10,000 games each.\n",
    "# store results in two separate lists.\n",
    "\n",
    "method1_results = []\n",
    "method2_results = []\n",
    "\n",
    "for i in range(1, 10000):\n",
    "    win_door = random.randint(1, 3)\n",
    "    choice1_door = random.randint(1, 3)\n",
    "    \n",
    "    # method 1 - sticking with your choice\n",
    "    if win_door == choice1_door:\n",
    "        method1_results.append(1)\n",
    "    else:\n",
    "        method1_results.append(0)\n",
    "    \n",
    "    # method 2 - switching doors\n",
    "    choice2_door = [1, 2, 3].remove(choice1_door)\n",
    "    if choice1_door == win_door:\n",
    "        method2_results.append(0)\n",
    "    else:\n",
    "        method2_results.append(1)"
   ]
  },
  {
   "cell_type": "code",
   "execution_count": 3,
   "id": "6a9f477d",
   "metadata": {},
   "outputs": [
    {
     "data": {
      "text/html": [
       "<div>\n",
       "<style scoped>\n",
       "    .dataframe tbody tr th:only-of-type {\n",
       "        vertical-align: middle;\n",
       "    }\n",
       "\n",
       "    .dataframe tbody tr th {\n",
       "        vertical-align: top;\n",
       "    }\n",
       "\n",
       "    .dataframe thead th {\n",
       "        text-align: right;\n",
       "    }\n",
       "</style>\n",
       "<table border=\"1\" class=\"dataframe\">\n",
       "  <thead>\n",
       "    <tr style=\"text-align: right;\">\n",
       "      <th></th>\n",
       "      <th>method1</th>\n",
       "      <th>method2</th>\n",
       "    </tr>\n",
       "  </thead>\n",
       "  <tbody>\n",
       "    <tr>\n",
       "      <th>0</th>\n",
       "      <td>0</td>\n",
       "      <td>1</td>\n",
       "    </tr>\n",
       "    <tr>\n",
       "      <th>1</th>\n",
       "      <td>0</td>\n",
       "      <td>1</td>\n",
       "    </tr>\n",
       "    <tr>\n",
       "      <th>2</th>\n",
       "      <td>0</td>\n",
       "      <td>1</td>\n",
       "    </tr>\n",
       "    <tr>\n",
       "      <th>3</th>\n",
       "      <td>0</td>\n",
       "      <td>1</td>\n",
       "    </tr>\n",
       "    <tr>\n",
       "      <th>4</th>\n",
       "      <td>1</td>\n",
       "      <td>0</td>\n",
       "    </tr>\n",
       "  </tbody>\n",
       "</table>\n",
       "</div>"
      ],
      "text/plain": [
       "   method1  method2\n",
       "0        0        1\n",
       "1        0        1\n",
       "2        0        1\n",
       "3        0        1\n",
       "4        1        0"
      ]
     },
     "execution_count": 3,
     "metadata": {},
     "output_type": "execute_result"
    }
   ],
   "source": [
    "# convert results into dataframe \n",
    "\n",
    "results_df = pd.DataFrame(zip(method1_results, method2_results),\n",
    "                          columns=['method1', 'method2'])\n",
    "results_df.head()"
   ]
  },
  {
   "cell_type": "code",
   "execution_count": 4,
   "id": "4520d1f4",
   "metadata": {},
   "outputs": [
    {
     "data": {
      "text/html": [
       "<div>\n",
       "<style scoped>\n",
       "    .dataframe tbody tr th:only-of-type {\n",
       "        vertical-align: middle;\n",
       "    }\n",
       "\n",
       "    .dataframe tbody tr th {\n",
       "        vertical-align: top;\n",
       "    }\n",
       "\n",
       "    .dataframe thead th {\n",
       "        text-align: right;\n",
       "    }\n",
       "</style>\n",
       "<table border=\"1\" class=\"dataframe\">\n",
       "  <thead>\n",
       "    <tr style=\"text-align: right;\">\n",
       "      <th></th>\n",
       "      <th>method</th>\n",
       "      <th>result</th>\n",
       "      <th>totals</th>\n",
       "    </tr>\n",
       "  </thead>\n",
       "  <tbody>\n",
       "    <tr>\n",
       "      <th>0</th>\n",
       "      <td>method1</td>\n",
       "      <td>0</td>\n",
       "      <td>6770</td>\n",
       "    </tr>\n",
       "    <tr>\n",
       "      <th>1</th>\n",
       "      <td>method1</td>\n",
       "      <td>1</td>\n",
       "      <td>3229</td>\n",
       "    </tr>\n",
       "    <tr>\n",
       "      <th>2</th>\n",
       "      <td>method2</td>\n",
       "      <td>0</td>\n",
       "      <td>3229</td>\n",
       "    </tr>\n",
       "    <tr>\n",
       "      <th>3</th>\n",
       "      <td>method2</td>\n",
       "      <td>1</td>\n",
       "      <td>6770</td>\n",
       "    </tr>\n",
       "  </tbody>\n",
       "</table>\n",
       "</div>"
      ],
      "text/plain": [
       "    method  result  totals\n",
       "0  method1       0    6770\n",
       "1  method1       1    3229\n",
       "2  method2       0    3229\n",
       "3  method2       1    6770"
      ]
     },
     "execution_count": 4,
     "metadata": {},
     "output_type": "execute_result"
    }
   ],
   "source": [
    "# aggregate results\n",
    "\n",
    "agg_df = pd.melt(results_df, value_vars=['method1', 'method2'], var_name='method', value_name='result')\n",
    "agg_df['totals'] = agg_df['result']\n",
    "agg_df = agg_df.groupby(['method', 'result']).count().reset_index()\n",
    "agg_df"
   ]
  },
  {
   "cell_type": "code",
   "execution_count": 5,
   "id": "1e67dbaf",
   "metadata": {},
   "outputs": [
    {
     "data": {
      "image/png": "[encoded data removed]",
      "text/plain": [
       "<Figure size 720x576 with 1 Axes>"
      ]
     },
     "metadata": {
      "needs_background": "light"
     },
     "output_type": "display_data"
    }
   ],
   "source": [
    "plt.figure(figsize=(10,8))\n",
    "plt.bar(agg_df[agg_df['method']=='method1']['result']+0.15, \n",
    "        agg_df[agg_df['method']=='method1']['totals'], \n",
    "        label='Method 1 (no switching)', width=0.3)\n",
    "plt.bar(agg_df[agg_df['method']=='method2']['result']-0.15, \n",
    "        agg_df[agg_df['method']=='method2']['totals'], \n",
    "        label='Method 2 (switching)', width=0.3)\n",
    "plt.xticks([0,1], ['Losses', 'Wins'])\n",
    "plt.ylim(0, 10000)\n",
    "plt.legend()\n",
    "plt.grid()\n",
    "plt.show()"
   ]
  },
  {
   "cell_type": "markdown",
   "id": "7055f384",
   "metadata": {},
   "source": [
    "We see indeed from the table and barchart above that switching doors is in the contestant's best interest, and that this methodology resulted in a contestant winning about twice as often (3,306 wins for method 1, and 6,693 wins for method 2). \n",
    "\n",
    "The reason for this is that so long as your pick a losing door as your first choice, switching your door will always result in winning (since Monty shows you the other door that doesn't have a prize). Since your chance of winning a losting door during your first choice is 2/3, you chance of winning from switching is also 2/3. The empirical results align with this logic."
   ]
  }
 ],
 "metadata": {
  "kernelspec": {
   "display_name": "Python 3 (ipykernel)",
   "language": "python",
   "name": "python3"
  },
  "language_info": {
   "codemirror_mode": {
    "name": "ipython",
    "version": 3
   },
   "file_extension": ".py",
   "mimetype": "text/x-python",
   "name": "python",
   "nbconvert_exporter": "python",
   "pygments_lexer": "ipython3",
   "version": "3.9.12"
  }
 },
 "nbformat": 4,
 "nbformat_minor": 5
}
