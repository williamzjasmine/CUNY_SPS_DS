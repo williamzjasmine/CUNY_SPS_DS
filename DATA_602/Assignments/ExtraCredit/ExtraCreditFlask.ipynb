{
 "cells": [
  {
   "cell_type": "code",
   "execution_count": null,
   "metadata": {
    "id": "wsHsAjCY7TLG"
   },
   "outputs": [],
   "source": [
    "'''\n",
    "Extra Credit\n",
    "\n",
    "Submissions must be a Python file and not a notebook file (i.e *.ipynb)\n",
    "Do not use global variables\n",
    "\n",
    "http://flask.pocoo.org/docs/1.0/quickstart/\n",
    "\n",
    "Using the flask web server, load the HTML form contained in the variable main_page. The form should load at route '/'.\n",
    "The user should then be able to enter a number and click Calculate at which time the browser will submit\n",
    "an HTTP POST to the web server. The web server will then capture the post, extract the number entered\n",
    "and display the number multiplied by 5 on the browser.\n",
    "'''\n",
    "\n",
    "from flask import Flask, request\n",
    "\n",
    "main_page = '''\n",
    "<html>\n",
    "    <head>\n",
    "    <title></title>\n",
    "    <link rel=\"stylesheet\" href=\"http://netdna.bootstrapcdn.com/bootstrap/3.3.2/css/bootstrap.min.css\">\n",
    "    <link rel=\"stylesheet\" href=\"http://netdna.bootstrapcdn.com/font-awesome/3.2.1/css/font-awesome.min.css\">\n",
    "    </head>\n",
    "<body>\n",
    "<form class=\"form-horizontal\" method=\"post\" action=\"/calc\">\n",
    "<fieldset>\n",
    "<!-- Form Name -->\n",
    "<legend>Multiplier</legend>\n",
    "<!-- Text input-->\n",
    "<div class=\"form-group\">\n",
    "  <label class=\"col-md-4 control-label\" for=\"textinput\">Number</label>  \n",
    "  <div class=\"col-md-4\">\n",
    "  <input id=\"textinput\" type=\"number\" name='number' placeholder=\"Enter a number\" class=\"form-control input-md\">\n",
    "  </div>\n",
    "</div>\n",
    "<!-- Button -->\n",
    "<div class=\"form-group\">\n",
    "  <label class=\"col-md-4 control-label\" for=\"singlebutton\"></label>\n",
    "  <div class=\"col-md-4\">\n",
    "    <button id=\"singlebutton\" name=\"singlebutton\" class=\"btn btn-primary\">Calculate</button>\n",
    "  </div>\n",
    "</div>\n",
    "</fieldset>\n",
    "</form>\n",
    "<script src=\"http://netdna.bootstrapcdn.com/bootstrap/3.3.2/js/bootstrap.min.js\"></script>\n",
    "</body>\n",
    "</html>\n",
    "'''\n",
    "    # ------ Place code below here \\/ \\/ \\/ ------\n",
    "\n",
    "\n",
    "\n",
    "    # ------ Place code above here /\\ /\\ /\\ ------"
   ]
  }
 ],
 "metadata": {
  "colab": {
   "name": "ExtraCreditFlask.ipynb",
   "provenance": []
  },
  "kernelspec": {
   "display_name": "Python 3 (ipykernel)",
   "language": "python",
   "name": "python3"
  },
  "language_info": {
   "codemirror_mode": {
    "name": "ipython",
    "version": 3
   },
   "file_extension": ".py",
   "mimetype": "text/x-python",
   "name": "python",
   "nbconvert_exporter": "python",
   "pygments_lexer": "ipython3",
   "version": "3.9.12"
  }
 },
 "nbformat": 4,
 "nbformat_minor": 1
}
