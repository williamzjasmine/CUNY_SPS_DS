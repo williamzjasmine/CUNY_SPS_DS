{
 "cells": [
  {
   "cell_type": "markdown",
   "id": "c4a2c37f",
   "metadata": {},
   "source": [
    "# Data 602 - Assignment 1"
   ]
  },
  {
   "cell_type": "markdown",
   "id": "8af3b992",
   "metadata": {},
   "source": [
    "## Question 1\n",
    "\n",
    "Fix all the syntax and logical errors in the given source code \n",
    "add comments to explain your reasoning\n",
    "\n",
    "This program gets three test scores and displays their average.  It congratulates the user if the \n",
    "average is a high score. The high score variable holds the value that is considered a high score.\n",
    "\n",
    "```\n",
    "HIGH_SCORE = 95\n",
    " \n",
    "# Get the test scores.\n",
    "test1 = input('Enter the score for test 1: ')\n",
    "test2 = input('Enter the score for test 2: ')\n",
    "# Calculate the average test score.\n",
    "average = test1 + test2 + test3 / 3\n",
    "# Print the average.\n",
    "print('The average score is', average)\n",
    "# If the average is a high score,\n",
    "# congratulate the user.\n",
    "if average >= high_score:\n",
    "    print('Congratulations!')\n",
    "print('That is a great average!')\n",
    "```"
   ]
  },
  {
   "cell_type": "code",
   "execution_count": 1,
   "id": "40100b3a",
   "metadata": {},
   "outputs": [
    {
     "name": "stdout",
     "output_type": "stream",
     "text": [
      "Enter the score for test 1: 98\n",
      "Enter the score for test 2: 94\n",
      "Enter the score for test 3: 95\n",
      "The average score is 95.66666666666667\n",
      "Congratulations!\n",
      "That is a great average!\n"
     ]
    }
   ],
   "source": [
    "HIGH_SCORE = 95\n",
    "\n",
    "# wrap each input with an int() function to convert the inputs from string to integers\n",
    "test1 = int(input('Enter the score for test 1: '))\n",
    "test2 = int(input('Enter the score for test 2: '))\n",
    "# adding line to have user input 3rd test score.\n",
    "test3 = int(input('Enter the score for test 3: '))\n",
    "\n",
    "# added parentheses to sum the test scores and have correct order of operations\n",
    "average = (test1 + test2 + test3) / 3 \n",
    "\n",
    "# updated the print string so that\n",
    "print('The average score is', average)\n",
    "\n",
    "# update to correct variable name (HIGH_SCORE not high_score)\n",
    "if average >= HIGH_SCORE:\n",
    "    print('Congratulations!')\n",
    "# indent second print statement so it is included in the if statement\n",
    "    print('That is a great average!')"
   ]
  },
  {
   "cell_type": "markdown",
   "id": "d19efd03",
   "metadata": {},
   "source": [
    "## Question 2\n",
    "The area of a rectangle is the rectangle’s length times its width. Write a program that asks for the length and width of two rectangles and prints to the user the area of both rectangles. \n"
   ]
  },
  {
   "cell_type": "code",
   "execution_count": 2,
   "id": "5b7bc1ff",
   "metadata": {},
   "outputs": [
    {
     "name": "stdout",
     "output_type": "stream",
     "text": [
      "Input the length of the rectangle 1: 3\n",
      "Input the width of the rectangle 1: 5\n",
      "Input the length of the rectangle 2: 9\n",
      "Input the width of the rectangle 2: 1\n",
      "\n",
      "The area of rectangle 1 is 3.00. The area of rectangle 2 is 9.00.\n"
     ]
    }
   ],
   "source": [
    "def get_rectangle_area():\n",
    "    l1 = float(input('Input the length of the rectangle 1: '))\n",
    "    w1 = float(input('Input the width of the rectangle 1: '))\n",
    "    l2 = float(input('Input the length of the rectangle 2: '))\n",
    "    w2 = float(input('Input the width of the rectangle 2: '))\n",
    "    print('\\nThe area of rectangle 1 is %.2f. The area of rectangle 2 is %.2f.' %(l1*w2, l2*w2))\n",
    "\n",
    "get_rectangle_area()"
   ]
  },
  {
   "cell_type": "markdown",
   "id": "ad891776",
   "metadata": {},
   "source": [
    "## Question 3\n",
    "\n",
    "Ask a user to enter their first name and their age and assign it to the variables name and age. \n",
    "The variable name should be a string and the variable age should be an int.  \n",
    "\n",
    "Using the variables name and age, print a message to the user stating something along the lines of: \"Happy birthday, name! You are age years old today!\""
   ]
  },
  {
   "cell_type": "code",
   "execution_count": 3,
   "id": "97331097",
   "metadata": {},
   "outputs": [
    {
     "name": "stdout",
     "output_type": "stream",
     "text": [
      "Enter your first name: William\n",
      "Enter your age: 29\n",
      "Happy birthday, William! You are 29 years old today.\n"
     ]
    }
   ],
   "source": [
    "name = input('Enter your first name: ')\n",
    "age = int(input('Enter your age: '))\n",
    "print('Happy birthday, %s! You are %d years old today.' %(name, age))"
   ]
  }
 ],
 "metadata": {
  "kernelspec": {
   "display_name": "Python 3 (ipykernel)",
   "language": "python",
   "name": "python3"
  },
  "language_info": {
   "codemirror_mode": {
    "name": "ipython",
    "version": 3
   },
   "file_extension": ".py",
   "mimetype": "text/x-python",
   "name": "python",
   "nbconvert_exporter": "python",
   "pygments_lexer": "ipython3",
   "version": "3.9.12"
  }
 },
 "nbformat": 4,
 "nbformat_minor": 5
}
