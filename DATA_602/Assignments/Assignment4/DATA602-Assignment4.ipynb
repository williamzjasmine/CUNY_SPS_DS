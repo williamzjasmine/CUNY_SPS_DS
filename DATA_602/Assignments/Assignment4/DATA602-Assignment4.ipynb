{
 "cells": [
  {
   "cell_type": "markdown",
   "id": "96b350ef",
   "metadata": {},
   "source": [
    "# Data 602 - Assignment 4"
   ]
  },
  {
   "cell_type": "markdown",
   "id": "07f273bc",
   "metadata": {},
   "source": [
    "## Question 1\n",
    "\n",
    "Create a class called BankAccount that has four attributes: `bankname`, `firstname`, `lastname`, and `balance`. The default balance should be set to 0.\n",
    "\n",
    "In addition, create ...\n",
    "\n",
    "- A method called `deposit()` that allows the user to make deposits into their balance.\n",
    "- A method called `withdrawal()` that allows the user to withdraw from their balance.\n",
    "- Withdrawal may not exceed the available balance. Hint: consider a conditional argument in your withdrawal() method.\n",
    "- Use the `__str__()` method in order to display the bank name, owner name, and current balance.\n",
    "- Make a series of deposits and withdrawals to test your class."
   ]
  },
  {
   "cell_type": "code",
   "execution_count": 1,
   "id": "a3e443ff",
   "metadata": {},
   "outputs": [],
   "source": [
    "# create class\n",
    "class BankAccount:\n",
    "    '''\n",
    "    class to contain attributes and methods pertaining to user bank accounts. \n",
    "    \n",
    "    Attributes --\n",
    "      bankname: the name of the bank.\n",
    "      firstname: the first name of the account owner.\n",
    "      lastname: the last name of the account owner. \n",
    "      balance: the balance in the owner's account. \n",
    "      \n",
    "    Methods --\n",
    "      __init__: constructor to define object attributes.\n",
    "      deposit: provided a valid deposit amount, adds it to total balance.\n",
    "      withdrawal: provided a valid withdrawal amount, substracts it from total balance.\n",
    "      __str__: displays all attibutes of the object.\n",
    "    '''\n",
    "    \n",
    "    def __init__(self, bankname, firstname, lastname, balance=0):\n",
    "        self.bankname = bankname\n",
    "        self.firstname = firstname\n",
    "        self.lastname = lastname\n",
    "        self.balance = balance\n",
    "        \n",
    "    def deposit(self, deposit_amount):\n",
    "        try:\n",
    "            if deposit_amount > 0:\n",
    "                self.balance = self.balance + deposit_amount\n",
    "            else:\n",
    "                print('Deposit amount must be greater than 0.')\n",
    "        except:\n",
    "            print('Not able to deposit amount.')\n",
    "\n",
    "    def withdrawal(self, withdrawal_amount):\n",
    "        try:\n",
    "            if withdrawal_amount > 0:\n",
    "                if withdrawal_amount < self.balance:\n",
    "                    self.balance = self.balance - withdrawal_amount\n",
    "                else:\n",
    "                    print('Withdrawal amount exceeds account balance.')\n",
    "            else:\n",
    "                print('Withdrawal amount must be greater than 0.')\n",
    "        except:\n",
    "            print('Not able to withdraw amount.')\n",
    "    \n",
    "    def __str__(self):\n",
    "        str1 = 'Owner name: ' + self.firstname + \" \" + self.lastname\n",
    "        str2 = 'Bank name: ' + self.bankname\n",
    "        str3 = 'Current balance: ' + str(self.balance)\n",
    "        return \"\\n\".join([str1, str2, str3])"
   ]
  },
  {
   "cell_type": "code",
   "execution_count": 2,
   "id": "ddd5e623",
   "metadata": {},
   "outputs": [
    {
     "name": "stdout",
     "output_type": "stream",
     "text": [
      "Not able to deposit amount.\n",
      "Deposit amount must be greater than 0.\n",
      "Not able to withdraw amount.\n",
      "Withdrawal amount must be greater than 0.\n",
      "Withdrawal amount exceeds account balance.\n",
      "\n",
      "\n",
      "\n",
      "Owner name: Jim Lahey\n",
      "Bank name: Chase\n",
      "Current balance: 25000\n"
     ]
    }
   ],
   "source": [
    "# Ensure all functions work correctly\n",
    "test_account = BankAccount('Chase', 'Jim', 'Lahey')\n",
    "test_account.deposit('40 thousand dollars')\n",
    "test_account.deposit(-40000)\n",
    "test_account.deposit(40000)\n",
    "test_account.withdrawal('15 thousand dollars')\n",
    "test_account.withdrawal(-15000)\n",
    "test_account.withdrawal(15000)\n",
    "test_account.withdrawal(30000)\n",
    "assert test_account.balance == 25000\n",
    "\n",
    "# Ensure all attributes are correct\n",
    "print('\\n\\n')\n",
    "print(test_account)"
   ]
  },
  {
   "cell_type": "markdown",
   "id": "9c78db78",
   "metadata": {},
   "source": [
    "## Question 2\n",
    "\n",
    "Create a class Box that has attributes length and width that takes values for length\n",
    "and width upon construction (instantiation via the constructor).\n",
    "In addition, create…\n",
    "\n",
    "- A method called `render()` that prints out to the screen a box made with asterisks of length and width dimensions\n",
    "- A method called `invert()` that switches length and width with each other\n",
    "- Methods `get_area()` and `get_perimeter()` that return appropriate geometric calculations\n",
    "- A method called `double()` that doubles the size of the box. Hint: Pay attention to return value here.\n",
    "- Implement `__eq__` so that two boxes can be compared using `==`. Two boxes are equal if their respective lengths and widths are identical.\n",
    "- A method `print_dim()` that prints to screen the length and width details of the box\n",
    "- A method `get_dim()` that returns a tuple containing the length and width of the box\n",
    "- A method `combine()` that takes another box as an argument and increases the length and width by the dimensions of the box passed in\n",
    "- A method `get_hypot()` that finds the length of the diagonal that cuts through the middle\n",
    "\n",
    "and test ...\n",
    "\n",
    "- Instantiate 3 boxes of dimensions 5,10 , 3,4 and 5,10 and assign to variables `box1`, `box2` and `box3` respectively\n",
    "- Print dimension info for each using `print_dim()`\n",
    "- Evaluate if `box1 == box2`, and also evaluate if `box1 == box3`, print `True` or `False` to the screen accordingly\n",
    "- Combine `box3` into `box1`\n",
    "- Double the size of `box2`\n",
    "- Combine `box2` into `box1`"
   ]
  },
  {
   "cell_type": "code",
   "execution_count": 3,
   "id": "090cd21a",
   "metadata": {},
   "outputs": [],
   "source": [
    "# create Box class\n",
    "\n",
    "import math\n",
    "\n",
    "class Box:\n",
    "    '''\n",
    "    Class used to represent a 2-D box using using a length (l) \n",
    "    and width (w) attribute. Methods included below provide a number \n",
    "    of options to manipulate or calculate statistics of the box once\n",
    "    instantiated as an object.\n",
    "    '''\n",
    "    \n",
    "    # use constructor to instantiate length and with attributes of a box object.\n",
    "    def __init__(self, l=1, w=1):\n",
    "        assert type(l) in [int, float], 'l and w must be numeric values.'\n",
    "        assert type(w) in [int, float], 'l and w must be numeric values.'\n",
    "        assert l > 0, 'l and w must both be greater than 0.'\n",
    "        assert w > 0, 'l and w must both be greater than 0'\n",
    "        self.l = l\n",
    "        self.w = w\n",
    "    \n",
    "    # --- return functions ---\n",
    "\n",
    "    # returns the perimeter of a box object\n",
    "    def get_area(self):\n",
    "        return self.l * self.w\n",
    "    \n",
    "    # returns the perimeter of a box object\n",
    "    def get_perimeter(self):\n",
    "        return 2 * self.l + 2 * self.w\n",
    "    \n",
    "    # returns the length of the diagonal of the box\n",
    "    def get_hypot(self):\n",
    "        return math.sqrt(self.l * self.l + self.w * self.w)\n",
    "\n",
    "    # returns the dimensions of a box object\n",
    "    def get_dim(self):\n",
    "        return (self.l, self.w)\n",
    "\n",
    "    # allows equality of two boxes objects to be determined using == operator \n",
    "    def __eq__(box1, box2):\n",
    "        return box1.l == box2.l and box1.w == box2.w\n",
    "    \n",
    "    # --- manipulate functions ---\n",
    "    \n",
    "    # inverts the length and the width of a box object\n",
    "    def invert(self):\n",
    "        tmp = self.l\n",
    "        self.l = self.w\n",
    "        self.w = tmp\n",
    "        return self\n",
    "    \n",
    "    # absorbs one box object into another by adding their lengths and widths.\n",
    "    def combine(self, new_box):\n",
    "        self.l = self.l + new_box.l\n",
    "        self.w = self.w + new_box.w\n",
    "        return self\n",
    "    \n",
    "    # doubles the length and the width of the box object\n",
    "    def double(self):\n",
    "        self.l = 2 * self.l\n",
    "        self.w = 2 * self.w\n",
    "        return self \n",
    "    \n",
    "    # --- print functions ---\n",
    "    \n",
    "    # prints the dimensions of a box object\n",
    "    def print_dim(self):\n",
    "        print('Length = %.2f Width = %.2f' %(self.l, self.w))\n",
    "    \n",
    "    def render(self):\n",
    "        for l in range(self.l):\n",
    "            print('* ' * self.w)    "
   ]
  },
  {
   "cell_type": "code",
   "execution_count": 4,
   "id": "1d81430b",
   "metadata": {},
   "outputs": [
    {
     "name": "stdout",
     "output_type": "stream",
     "text": [
      "Length = 5.00 Width = 10.00\n",
      "Length = 3.00 Width = 4.00\n",
      "Length = 5.00 Width = 10.00\n"
     ]
    }
   ],
   "source": [
    "box1 = Box(5, 10)\n",
    "box2 = Box(3, 4)\n",
    "box3 = Box(5, 10)\n",
    "boxes = [box1, box2, box3]\n",
    "\n",
    "for box in boxes:\n",
    "    box.print_dim()"
   ]
  },
  {
   "cell_type": "code",
   "execution_count": 5,
   "id": "e07a5b1f",
   "metadata": {},
   "outputs": [
    {
     "name": "stdout",
     "output_type": "stream",
     "text": [
      "False\n",
      "True\n"
     ]
    }
   ],
   "source": [
    "print(box1 == box2)\n",
    "print(box1 == box3)"
   ]
  },
  {
   "cell_type": "code",
   "execution_count": 6,
   "id": "782f4150",
   "metadata": {},
   "outputs": [
    {
     "name": "stdout",
     "output_type": "stream",
     "text": [
      "* * * * * * * * * * * * * * * * * * * * * * * * * * * * \n",
      "* * * * * * * * * * * * * * * * * * * * * * * * * * * * \n",
      "* * * * * * * * * * * * * * * * * * * * * * * * * * * * \n",
      "* * * * * * * * * * * * * * * * * * * * * * * * * * * * \n",
      "* * * * * * * * * * * * * * * * * * * * * * * * * * * * \n",
      "* * * * * * * * * * * * * * * * * * * * * * * * * * * * \n",
      "* * * * * * * * * * * * * * * * * * * * * * * * * * * * \n",
      "* * * * * * * * * * * * * * * * * * * * * * * * * * * * \n",
      "* * * * * * * * * * * * * * * * * * * * * * * * * * * * \n",
      "* * * * * * * * * * * * * * * * * * * * * * * * * * * * \n",
      "* * * * * * * * * * * * * * * * * * * * * * * * * * * * \n",
      "* * * * * * * * * * * * * * * * * * * * * * * * * * * * \n",
      "* * * * * * * * * * * * * * * * * * * * * * * * * * * * \n",
      "* * * * * * * * * * * * * * * * * * * * * * * * * * * * \n",
      "* * * * * * * * * * * * * * * * * * * * * * * * * * * * \n",
      "* * * * * * * * * * * * * * * * * * * * * * * * * * * * \n"
     ]
    }
   ],
   "source": [
    "box1.combine(box3)\n",
    "box2.double()\n",
    "box1.combine(box2)\n",
    "box1.render()"
   ]
  },
  {
   "cell_type": "code",
   "execution_count": 7,
   "id": "33476423",
   "metadata": {},
   "outputs": [],
   "source": [
    "assert box1.get_dim() == (16, 28)\n",
    "assert box1.invert().get_dim() == (28, 16)\n",
    "assert Box(3, 4).get_hypot() == 5\n",
    "\n",
    "# All functions look to be working!"
   ]
  }
 ],
 "metadata": {
  "kernelspec": {
   "display_name": "Python 3 (ipykernel)",
   "language": "python",
   "name": "python3"
  },
  "language_info": {
   "codemirror_mode": {
    "name": "ipython",
    "version": 3
   },
   "file_extension": ".py",
   "mimetype": "text/x-python",
   "name": "python",
   "nbconvert_exporter": "python",
   "pygments_lexer": "ipython3",
   "version": "3.9.12"
  }
 },
 "nbformat": 4,
 "nbformat_minor": 5
}
