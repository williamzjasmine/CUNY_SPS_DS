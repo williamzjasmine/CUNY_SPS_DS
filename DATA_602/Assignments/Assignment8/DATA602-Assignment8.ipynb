{
 "cells": [
  {
   "cell_type": "markdown",
   "id": "be314fa5",
   "metadata": {},
   "source": [
    "# Import Packages"
   ]
  },
  {
   "cell_type": "code",
   "execution_count": 1,
   "id": "8aae2863",
   "metadata": {},
   "outputs": [],
   "source": [
    "import pandas as pd \n",
    "import numpy as np\n",
    "import matplotlib.pyplot as plt \n",
    "import re\n",
    "import datetime"
   ]
  },
  {
   "cell_type": "markdown",
   "id": "ef1d02b4",
   "metadata": {},
   "source": [
    "# Import Data\n",
    "\n",
    "The data for this project comes from [Kaggle](https://www.kaggle.com/datasets/debjeetdas/air-concentration-for-the-chernobyl-disaster), and contains air quality data from regions surrounding the Chernobyl nuclear plant immediately following the meltdown that took place there. \n",
    "\n",
    "The data is contained in the csv file `chernobyl_air_quality.csv`, and is loaded into the notebook in the cell below as a dataframe, `df`."
   ]
  },
  {
   "cell_type": "code",
   "execution_count": 2,
   "id": "252ed509",
   "metadata": {},
   "outputs": [
    {
     "data": {
      "text/html": [
       "<div>\n",
       "<style scoped>\n",
       "    .dataframe tbody tr th:only-of-type {\n",
       "        vertical-align: middle;\n",
       "    }\n",
       "\n",
       "    .dataframe tbody tr th {\n",
       "        vertical-align: top;\n",
       "    }\n",
       "\n",
       "    .dataframe thead th {\n",
       "        text-align: right;\n",
       "    }\n",
       "</style>\n",
       "<table border=\"1\" class=\"dataframe\">\n",
       "  <thead>\n",
       "    <tr style=\"text-align: right;\">\n",
       "      <th></th>\n",
       "      <th>PAYS</th>\n",
       "      <th>Code</th>\n",
       "      <th>Ville</th>\n",
       "      <th>X</th>\n",
       "      <th>Y</th>\n",
       "      <th>Date</th>\n",
       "      <th>End_of_sampling</th>\n",
       "      <th>Duration(h.min)</th>\n",
       "      <th>I_131_(Bq/m3)</th>\n",
       "      <th>Cs_134_(Bq/m3)</th>\n",
       "      <th>Cs_137_(Bq/m3)</th>\n",
       "    </tr>\n",
       "  </thead>\n",
       "  <tbody>\n",
       "    <tr>\n",
       "      <th>0</th>\n",
       "      <td>SE</td>\n",
       "      <td>1</td>\n",
       "      <td>RISOE</td>\n",
       "      <td>12.07</td>\n",
       "      <td>55.7</td>\n",
       "      <td>86/04/27</td>\n",
       "      <td>24:00:00</td>\n",
       "      <td>24.0</td>\n",
       "      <td>1</td>\n",
       "      <td>0</td>\n",
       "      <td>0.24</td>\n",
       "    </tr>\n",
       "    <tr>\n",
       "      <th>1</th>\n",
       "      <td>SE</td>\n",
       "      <td>1</td>\n",
       "      <td>RISOE</td>\n",
       "      <td>12.07</td>\n",
       "      <td>55.7</td>\n",
       "      <td>86/04/28</td>\n",
       "      <td>24:00:00</td>\n",
       "      <td>24.0</td>\n",
       "      <td>0.0046</td>\n",
       "      <td>0.00054</td>\n",
       "      <td>0.00098</td>\n",
       "    </tr>\n",
       "    <tr>\n",
       "      <th>2</th>\n",
       "      <td>SE</td>\n",
       "      <td>1</td>\n",
       "      <td>RISOE</td>\n",
       "      <td>12.07</td>\n",
       "      <td>55.7</td>\n",
       "      <td>86/04/29</td>\n",
       "      <td>12:00</td>\n",
       "      <td>12.0</td>\n",
       "      <td>0.0147</td>\n",
       "      <td>0.0043</td>\n",
       "      <td>0.0074</td>\n",
       "    </tr>\n",
       "    <tr>\n",
       "      <th>3</th>\n",
       "      <td>SE</td>\n",
       "      <td>1</td>\n",
       "      <td>RISOE</td>\n",
       "      <td>12.07</td>\n",
       "      <td>55.7</td>\n",
       "      <td>86/04/29</td>\n",
       "      <td>24:00:00</td>\n",
       "      <td>12.0</td>\n",
       "      <td>0.00061</td>\n",
       "      <td>0</td>\n",
       "      <td>0.00009</td>\n",
       "    </tr>\n",
       "    <tr>\n",
       "      <th>4</th>\n",
       "      <td>SE</td>\n",
       "      <td>1</td>\n",
       "      <td>RISOE</td>\n",
       "      <td>12.07</td>\n",
       "      <td>55.7</td>\n",
       "      <td>86/04/30</td>\n",
       "      <td>24:00:00</td>\n",
       "      <td>24.0</td>\n",
       "      <td>0.00075</td>\n",
       "      <td>0.0001</td>\n",
       "      <td>0.00028</td>\n",
       "    </tr>\n",
       "  </tbody>\n",
       "</table>\n",
       "</div>"
      ],
      "text/plain": [
       "  PAYS  Code  Ville      X     Y      Date End_of_sampling  Duration(h.min)  \\\n",
       "0   SE     1  RISOE  12.07  55.7  86/04/27        24:00:00             24.0   \n",
       "1   SE     1  RISOE  12.07  55.7  86/04/28        24:00:00             24.0   \n",
       "2   SE     1  RISOE  12.07  55.7  86/04/29           12:00             12.0   \n",
       "3   SE     1  RISOE  12.07  55.7  86/04/29        24:00:00             12.0   \n",
       "4   SE     1  RISOE  12.07  55.7  86/04/30        24:00:00             24.0   \n",
       "\n",
       "  I_131_(Bq/m3) Cs_134_(Bq/m3) Cs_137_(Bq/m3)  \n",
       "0             1              0           0.24  \n",
       "1        0.0046        0.00054        0.00098  \n",
       "2        0.0147         0.0043         0.0074  \n",
       "3       0.00061              0        0.00009  \n",
       "4       0.00075         0.0001        0.00028  "
      ]
     },
     "execution_count": 2,
     "metadata": {},
     "output_type": "execute_result"
    }
   ],
   "source": [
    "df = pd.read_csv('chernobyl_air_quality.csv')\n",
    "df.head()"
   ]
  },
  {
   "cell_type": "markdown",
   "id": "b73b64da",
   "metadata": {},
   "source": [
    "Based off the first few rows of the dataset, we see that each individual row pertains to a air quality measurement taken in a certain place at a certain time. "
   ]
  },
  {
   "cell_type": "markdown",
   "id": "acabdf5f",
   "metadata": {},
   "source": [
    "# Data Cleaning\n",
    "## Rename Columns\n",
    "\n",
    "The column names from the preview of the data shown above are not the most intuitive, so the cell below uses  the description of the data from Kaggle to rename them more appropriately."
   ]
  },
  {
   "cell_type": "code",
   "execution_count": 3,
   "id": "d8d42cef",
   "metadata": {},
   "outputs": [
    {
     "name": "stdout",
     "output_type": "stream",
     "text": [
      "<class 'pandas.core.frame.DataFrame'>\n",
      "RangeIndex: 2051 entries, 0 to 2050\n",
      "Data columns (total 11 columns):\n",
      " #   Column             Non-Null Count  Dtype  \n",
      "---  ------             --------------  -----  \n",
      " 0   country_iso        2051 non-null   object \n",
      " 1   country_code       2051 non-null   int64  \n",
      " 2   locality           2051 non-null   object \n",
      " 3   latitude           2051 non-null   float64\n",
      " 4   longitude          2051 non-null   float64\n",
      " 5   date               2051 non-null   object \n",
      " 6   sampling_end_time  2051 non-null   object \n",
      " 7   sampling_duration  2051 non-null   float64\n",
      " 8   I131_conc          2051 non-null   object \n",
      " 9   Cs134_conc         2051 non-null   object \n",
      " 10  Cs137_conc         2051 non-null   object \n",
      "dtypes: float64(3), int64(1), object(7)\n",
      "memory usage: 176.4+ KB\n"
     ]
    }
   ],
   "source": [
    "col_names = ['country_iso', 'country_code', 'locality', 'latitude', 'longitude', 'date', 'sampling_end_time', \n",
    "             'sampling_duration', 'I131_conc', 'Cs134_conc', 'Cs137_conc']\n",
    "df.columns = col_names\n",
    "df.info()"
   ]
  },
  {
   "cell_type": "markdown",
   "id": "11665086",
   "metadata": {},
   "source": [
    "Thankfully, we see from the above ouput that none of the columns have null values. More specifics on the data in each of the columns above can be found in the following table: \n",
    "\n",
    "| Column Name | Description |\n",
    "| --- | --- |\n",
    "| `country_iso` | The two letter ISO country code of the location where the air quality sample was taken. |\n",
    "| `country_code` | A unique numerical identifier pertaining to the country of the location where the air quality sample was taken. |\n",
    "| `locality` | The municipality, city, or region region of the location where the air quality sample was taken. |\n",
    "| `latitude` | The latitude of the `locality` the sample was taken from. |\n",
    "| `longitude` | The longitude of the `locality` the sample was taken from. |\n",
    "| `date` | The date the sample was taken. |\n",
    "| `sampling_end_time` | The time of day the sample was finished being taken. |\n",
    "| `sampling_duration` | The amount of time that was spent collecting the sample. |\n",
    "| `I131_conc` | The concentration of the radioactive isotope I-131 in becquerels per cubic meter |\n",
    "| `Cs134_conc` | The concentration of the radioactive isotope Cs-134 in becquerels per cubic meter |\n",
    "| `Cs137_conc` | The concentration of the radioactive isotope Cs-136 in becquerels per cubic meter |\n",
    "\n",
    "\n",
    "## Clean Country Columns\n",
    "\n",
    "Given that we have two country columns (`country_iso` and `country_code`), it is likely that one of them can be thrown away. However, we first have to check if these columns have a 1-to-1 relationship (meaning they both provide the same exact information). This is checked in the cell below via a groupby:"
   ]
  },
  {
   "cell_type": "code",
   "execution_count": 4,
   "id": "5883bdea",
   "metadata": {},
   "outputs": [
    {
     "data": {
      "text/html": [
       "<div>\n",
       "<style scoped>\n",
       "    .dataframe tbody tr th:only-of-type {\n",
       "        vertical-align: middle;\n",
       "    }\n",
       "\n",
       "    .dataframe tbody tr th {\n",
       "        vertical-align: top;\n",
       "    }\n",
       "\n",
       "    .dataframe thead th {\n",
       "        text-align: right;\n",
       "    }\n",
       "</style>\n",
       "<table border=\"1\" class=\"dataframe\">\n",
       "  <thead>\n",
       "    <tr style=\"text-align: right;\">\n",
       "      <th></th>\n",
       "      <th>country_iso</th>\n",
       "      <th>country_code</th>\n",
       "    </tr>\n",
       "  </thead>\n",
       "  <tbody>\n",
       "    <tr>\n",
       "      <th>0</th>\n",
       "      <td>AU</td>\n",
       "      <td>14</td>\n",
       "    </tr>\n",
       "    <tr>\n",
       "      <th>1</th>\n",
       "      <td>BE</td>\n",
       "      <td>10</td>\n",
       "    </tr>\n",
       "    <tr>\n",
       "      <th>2</th>\n",
       "      <td>CH</td>\n",
       "      <td>13</td>\n",
       "    </tr>\n",
       "    <tr>\n",
       "      <th>3</th>\n",
       "      <td>CZ</td>\n",
       "      <td>23</td>\n",
       "    </tr>\n",
       "    <tr>\n",
       "      <th>4</th>\n",
       "      <td>DE</td>\n",
       "      <td>2</td>\n",
       "    </tr>\n",
       "    <tr>\n",
       "      <th>5</th>\n",
       "      <td>ES</td>\n",
       "      <td>11</td>\n",
       "    </tr>\n",
       "    <tr>\n",
       "      <th>6</th>\n",
       "      <td>F</td>\n",
       "      <td>3</td>\n",
       "    </tr>\n",
       "    <tr>\n",
       "      <th>7</th>\n",
       "      <td>FI</td>\n",
       "      <td>20</td>\n",
       "    </tr>\n",
       "    <tr>\n",
       "      <th>8</th>\n",
       "      <td>GR</td>\n",
       "      <td>8</td>\n",
       "    </tr>\n",
       "    <tr>\n",
       "      <th>9</th>\n",
       "      <td>HU</td>\n",
       "      <td>24</td>\n",
       "    </tr>\n",
       "    <tr>\n",
       "      <th>10</th>\n",
       "      <td>IR</td>\n",
       "      <td>4</td>\n",
       "    </tr>\n",
       "    <tr>\n",
       "      <th>11</th>\n",
       "      <td>IT</td>\n",
       "      <td>5</td>\n",
       "    </tr>\n",
       "    <tr>\n",
       "      <th>12</th>\n",
       "      <td>NL</td>\n",
       "      <td>7</td>\n",
       "    </tr>\n",
       "    <tr>\n",
       "      <th>13</th>\n",
       "      <td>NO</td>\n",
       "      <td>21</td>\n",
       "    </tr>\n",
       "    <tr>\n",
       "      <th>14</th>\n",
       "      <td>SE</td>\n",
       "      <td>1</td>\n",
       "    </tr>\n",
       "    <tr>\n",
       "      <th>15</th>\n",
       "      <td>SE</td>\n",
       "      <td>22</td>\n",
       "    </tr>\n",
       "    <tr>\n",
       "      <th>16</th>\n",
       "      <td>UK</td>\n",
       "      <td>9</td>\n",
       "    </tr>\n",
       "  </tbody>\n",
       "</table>\n",
       "</div>"
      ],
      "text/plain": [
       "   country_iso  country_code\n",
       "0           AU            14\n",
       "1           BE            10\n",
       "2           CH            13\n",
       "3           CZ            23\n",
       "4           DE             2\n",
       "5           ES            11\n",
       "6            F             3\n",
       "7           FI            20\n",
       "8           GR             8\n",
       "9           HU            24\n",
       "10          IR             4\n",
       "11          IT             5\n",
       "12          NL             7\n",
       "13          NO            21\n",
       "14          SE             1\n",
       "15          SE            22\n",
       "16          UK             9"
      ]
     },
     "execution_count": 4,
     "metadata": {},
     "output_type": "execute_result"
    }
   ],
   "source": [
    "df[['country_iso', 'country_code']].groupby(['country_iso', 'country_code']).count().reset_index()"
   ]
  },
  {
   "cell_type": "markdown",
   "id": "bc944e3f",
   "metadata": {},
   "source": [
    "Unfortunately, we see that there is a single `country_iso` value (\"SE\") that maps to two different `country_id` values. If we look at the unique localities for rows in which `country_iso == 'SE'`, we can see why:"
   ]
  },
  {
   "cell_type": "code",
   "execution_count": 5,
   "id": "a0f8cea7",
   "metadata": {},
   "outputs": [
    {
     "data": {
      "text/plain": [
       "{'GOETEBORG', 'LJUNGBYHED', 'OESTERSUND', 'RISOE', 'STOCKHOLM', 'UMEAA'}"
      ]
     },
     "execution_count": 5,
     "metadata": {},
     "output_type": "execute_result"
    }
   ],
   "source": [
    "set(df[df['country_iso'] == 'SE']['locality'])"
   ]
  },
  {
   "cell_type": "markdown",
   "id": "3b2ba5e0",
   "metadata": {},
   "source": [
    "Some google searching reveals that the locality, \"RISOE\", is actually in Denmark. As such, the code below changes the problematic \"SE\" rows into the ISO two-letter country code for Denmark (\"DE\"), and then checks again to make sure the two columns have a 1-to-1 relationship:"
   ]
  },
  {
   "cell_type": "code",
   "execution_count": 6,
   "id": "da4ceeea",
   "metadata": {},
   "outputs": [
    {
     "data": {
      "text/html": [
       "<div>\n",
       "<style scoped>\n",
       "    .dataframe tbody tr th:only-of-type {\n",
       "        vertical-align: middle;\n",
       "    }\n",
       "\n",
       "    .dataframe tbody tr th {\n",
       "        vertical-align: top;\n",
       "    }\n",
       "\n",
       "    .dataframe thead th {\n",
       "        text-align: right;\n",
       "    }\n",
       "</style>\n",
       "<table border=\"1\" class=\"dataframe\">\n",
       "  <thead>\n",
       "    <tr style=\"text-align: right;\">\n",
       "      <th></th>\n",
       "      <th>country_iso</th>\n",
       "      <th>country_code</th>\n",
       "    </tr>\n",
       "  </thead>\n",
       "  <tbody>\n",
       "    <tr>\n",
       "      <th>0</th>\n",
       "      <td>AU</td>\n",
       "      <td>14</td>\n",
       "    </tr>\n",
       "    <tr>\n",
       "      <th>1</th>\n",
       "      <td>BE</td>\n",
       "      <td>10</td>\n",
       "    </tr>\n",
       "    <tr>\n",
       "      <th>2</th>\n",
       "      <td>CH</td>\n",
       "      <td>13</td>\n",
       "    </tr>\n",
       "    <tr>\n",
       "      <th>3</th>\n",
       "      <td>CZ</td>\n",
       "      <td>23</td>\n",
       "    </tr>\n",
       "    <tr>\n",
       "      <th>4</th>\n",
       "      <td>DE</td>\n",
       "      <td>1</td>\n",
       "    </tr>\n",
       "    <tr>\n",
       "      <th>5</th>\n",
       "      <td>DE</td>\n",
       "      <td>2</td>\n",
       "    </tr>\n",
       "    <tr>\n",
       "      <th>6</th>\n",
       "      <td>ES</td>\n",
       "      <td>11</td>\n",
       "    </tr>\n",
       "    <tr>\n",
       "      <th>7</th>\n",
       "      <td>F</td>\n",
       "      <td>3</td>\n",
       "    </tr>\n",
       "    <tr>\n",
       "      <th>8</th>\n",
       "      <td>FI</td>\n",
       "      <td>20</td>\n",
       "    </tr>\n",
       "    <tr>\n",
       "      <th>9</th>\n",
       "      <td>GR</td>\n",
       "      <td>8</td>\n",
       "    </tr>\n",
       "    <tr>\n",
       "      <th>10</th>\n",
       "      <td>HU</td>\n",
       "      <td>24</td>\n",
       "    </tr>\n",
       "    <tr>\n",
       "      <th>11</th>\n",
       "      <td>IR</td>\n",
       "      <td>4</td>\n",
       "    </tr>\n",
       "    <tr>\n",
       "      <th>12</th>\n",
       "      <td>IT</td>\n",
       "      <td>5</td>\n",
       "    </tr>\n",
       "    <tr>\n",
       "      <th>13</th>\n",
       "      <td>NL</td>\n",
       "      <td>7</td>\n",
       "    </tr>\n",
       "    <tr>\n",
       "      <th>14</th>\n",
       "      <td>NO</td>\n",
       "      <td>21</td>\n",
       "    </tr>\n",
       "    <tr>\n",
       "      <th>15</th>\n",
       "      <td>SE</td>\n",
       "      <td>22</td>\n",
       "    </tr>\n",
       "    <tr>\n",
       "      <th>16</th>\n",
       "      <td>UK</td>\n",
       "      <td>9</td>\n",
       "    </tr>\n",
       "  </tbody>\n",
       "</table>\n",
       "</div>"
      ],
      "text/plain": [
       "   country_iso  country_code\n",
       "0           AU            14\n",
       "1           BE            10\n",
       "2           CH            13\n",
       "3           CZ            23\n",
       "4           DE             1\n",
       "5           DE             2\n",
       "6           ES            11\n",
       "7            F             3\n",
       "8           FI            20\n",
       "9           GR             8\n",
       "10          HU            24\n",
       "11          IR             4\n",
       "12          IT             5\n",
       "13          NL             7\n",
       "14          NO            21\n",
       "15          SE            22\n",
       "16          UK             9"
      ]
     },
     "execution_count": 6,
     "metadata": {},
     "output_type": "execute_result"
    }
   ],
   "source": [
    "df.loc[df['locality'] == 'RISOE', 'country_iso'] = 'DE'\n",
    "df[['country_iso', 'country_code']].groupby(['country_iso', 'country_code']).count().reset_index()"
   ]
  },
  {
   "cell_type": "markdown",
   "id": "e60d9cf6",
   "metadata": {},
   "source": [
    "Since we have confirmed that these two columns now provide the same exact information, the `country_code` column is removed in the cell below. "
   ]
  },
  {
   "cell_type": "code",
   "execution_count": 7,
   "id": "7bf39395",
   "metadata": {},
   "outputs": [],
   "source": [
    "df = df.drop(columns=['country_code'])"
   ]
  },
  {
   "cell_type": "markdown",
   "id": "1b6f366b",
   "metadata": {},
   "source": [
    "## Clean Date Columns\n",
    "\n",
    "The cell below accomplishes two tasks: \n",
    "\n",
    "1. Change the type of the `date` column from \"object\" to \"datetime\", so it can be used as such in future analysis.\n",
    "2. Removes the `sampling_end_time` column, and there is no real need to knowing at what time of day the air quality measurement was finished. "
   ]
  },
  {
   "cell_type": "code",
   "execution_count": 8,
   "id": "de837b56",
   "metadata": {},
   "outputs": [],
   "source": [
    "df['date'] = pd.to_datetime(df['date'], format=\"%y/%m/%d\", errors='coerce')\n",
    "df = df.drop(columns=['sampling_end_time'])"
   ]
  },
  {
   "cell_type": "markdown",
   "id": "40722fc7",
   "metadata": {},
   "source": [
    "Next, the cell below cleans the `sampling_duration` columnn. The description of the field in Kaggle states that the values in this field are of the form \"hour.minute\", and because of this we see in the `.info` printout of our dataframe that that this column was actually parsed as a floating point field. As such, the \"numerical\" values in this field are misleading, i.e. two and a half hours would be represented as 2.30, not 2.5. The cell below fixes this by extracting the decimal part and whole number part of each value, and appropriately converting the minutes to a number between 0 and 100 as opposed to 0 and 60: "
   ]
  },
  {
   "cell_type": "code",
   "execution_count": 9,
   "id": "34cd7adf",
   "metadata": {},
   "outputs": [],
   "source": [
    "df['sampling_duration'] = df['sampling_duration'].astype('str')\n",
    "df['sampling_duration_mins'] = (df['sampling_duration'].str.extract(r'\\d*.(\\d*)').astype('float') * (10/6)) / 100\n",
    "df['sampling_duration_hours'] = df['sampling_duration'].str.extract(r'(\\d*).\\d*').astype('float')\n",
    "df['sampling_duration'] = df['sampling_duration_mins'] + df['sampling_duration_hours']\n",
    "df = df.drop(columns = ['sampling_duration_mins', 'sampling_duration_hours'])"
   ]
  },
  {
   "cell_type": "markdown",
   "id": "9bd7cab6",
   "metadata": {},
   "source": [
    "## Convert Concentration Fields to Numeric Type\n",
    "\n",
    "The `.info` output of our dataframe also reveals that the three concentration columns were actually parsed as object fields. The reason why can be seen in the output of the cell below: there are a number of measurements in which those fields have \"?\", \"L\", or \"N\" characters. "
   ]
  },
  {
   "cell_type": "code",
   "execution_count": 10,
   "id": "beacaa18",
   "metadata": {},
   "outputs": [
    {
     "data": {
      "text/plain": [
       "{'0', '1', '2', '3', '4', '5', '6', '7', '8', '9', '?', 'L', 'N'}"
      ]
     },
     "execution_count": 10,
     "metadata": {},
     "output_type": "execute_result"
    }
   ],
   "source": [
    "set(df['I131_conc'].str[-1:]).union(set(df['Cs134_conc'].str[-1:]).union(df['Cs137_conc'].str[-1:]))"
   ]
  },
  {
   "cell_type": "markdown",
   "id": "1a9f772b",
   "metadata": {},
   "source": [
    "Because we do not have actual measurements for these rows, they are dropped in the cell below "
   ]
  },
  {
   "cell_type": "code",
   "execution_count": 11,
   "id": "d16dac91",
   "metadata": {},
   "outputs": [
    {
     "data": {
      "text/html": [
       "<div>\n",
       "<style scoped>\n",
       "    .dataframe tbody tr th:only-of-type {\n",
       "        vertical-align: middle;\n",
       "    }\n",
       "\n",
       "    .dataframe tbody tr th {\n",
       "        vertical-align: top;\n",
       "    }\n",
       "\n",
       "    .dataframe thead th {\n",
       "        text-align: right;\n",
       "    }\n",
       "</style>\n",
       "<table border=\"1\" class=\"dataframe\">\n",
       "  <thead>\n",
       "    <tr style=\"text-align: right;\">\n",
       "      <th></th>\n",
       "      <th>country_iso</th>\n",
       "      <th>locality</th>\n",
       "      <th>latitude</th>\n",
       "      <th>longitude</th>\n",
       "      <th>date</th>\n",
       "      <th>sampling_duration</th>\n",
       "      <th>I131_conc</th>\n",
       "      <th>Cs134_conc</th>\n",
       "      <th>Cs137_conc</th>\n",
       "    </tr>\n",
       "  </thead>\n",
       "  <tbody>\n",
       "    <tr>\n",
       "      <th>0</th>\n",
       "      <td>DE</td>\n",
       "      <td>RISOE</td>\n",
       "      <td>12.07</td>\n",
       "      <td>55.7</td>\n",
       "      <td>1986-04-27</td>\n",
       "      <td>24.0</td>\n",
       "      <td>1</td>\n",
       "      <td>0</td>\n",
       "      <td>0.24</td>\n",
       "    </tr>\n",
       "    <tr>\n",
       "      <th>1</th>\n",
       "      <td>DE</td>\n",
       "      <td>RISOE</td>\n",
       "      <td>12.07</td>\n",
       "      <td>55.7</td>\n",
       "      <td>1986-04-28</td>\n",
       "      <td>24.0</td>\n",
       "      <td>0.0046</td>\n",
       "      <td>0.00054</td>\n",
       "      <td>0.00098</td>\n",
       "    </tr>\n",
       "    <tr>\n",
       "      <th>2</th>\n",
       "      <td>DE</td>\n",
       "      <td>RISOE</td>\n",
       "      <td>12.07</td>\n",
       "      <td>55.7</td>\n",
       "      <td>1986-04-29</td>\n",
       "      <td>12.0</td>\n",
       "      <td>0.0147</td>\n",
       "      <td>0.0043</td>\n",
       "      <td>0.0074</td>\n",
       "    </tr>\n",
       "    <tr>\n",
       "      <th>3</th>\n",
       "      <td>DE</td>\n",
       "      <td>RISOE</td>\n",
       "      <td>12.07</td>\n",
       "      <td>55.7</td>\n",
       "      <td>1986-04-29</td>\n",
       "      <td>12.0</td>\n",
       "      <td>0.00061</td>\n",
       "      <td>0</td>\n",
       "      <td>0.00009</td>\n",
       "    </tr>\n",
       "    <tr>\n",
       "      <th>4</th>\n",
       "      <td>DE</td>\n",
       "      <td>RISOE</td>\n",
       "      <td>12.07</td>\n",
       "      <td>55.7</td>\n",
       "      <td>1986-04-30</td>\n",
       "      <td>24.0</td>\n",
       "      <td>0.00075</td>\n",
       "      <td>0.0001</td>\n",
       "      <td>0.00028</td>\n",
       "    </tr>\n",
       "  </tbody>\n",
       "</table>\n",
       "</div>"
      ],
      "text/plain": [
       "  country_iso locality  latitude  longitude       date  sampling_duration  \\\n",
       "0          DE    RISOE     12.07       55.7 1986-04-27               24.0   \n",
       "1          DE    RISOE     12.07       55.7 1986-04-28               24.0   \n",
       "2          DE    RISOE     12.07       55.7 1986-04-29               12.0   \n",
       "3          DE    RISOE     12.07       55.7 1986-04-29               12.0   \n",
       "4          DE    RISOE     12.07       55.7 1986-04-30               24.0   \n",
       "\n",
       "  I131_conc Cs134_conc Cs137_conc  \n",
       "0         1          0       0.24  \n",
       "1    0.0046    0.00054    0.00098  \n",
       "2    0.0147     0.0043     0.0074  \n",
       "3   0.00061          0    0.00009  \n",
       "4   0.00075     0.0001    0.00028  "
      ]
     },
     "execution_count": 11,
     "metadata": {},
     "output_type": "execute_result"
    }
   ],
   "source": [
    "rows_to_drop = list(\n",
    "    set(df['I131_conc'].str.extract(r'^([LN?])*$').dropna().index).union(\n",
    "        set(df['Cs134_conc'].str.extract(r'^([LN?])*$').dropna().index)).union(\n",
    "            set(df['Cs137_conc'].str.extract(r'^([LN?])*$').dropna().index)))\n",
    "df = df.drop(rows_to_drop).reset_index(drop=True)\n",
    "df.head()"
   ]
  },
  {
   "cell_type": "markdown",
   "id": "1b8d044a",
   "metadata": {},
   "source": [
    "We can now safely convert the concentration columns into numeric fields:"
   ]
  },
  {
   "cell_type": "code",
   "execution_count": 12,
   "id": "99dba5f1",
   "metadata": {},
   "outputs": [
    {
     "name": "stdout",
     "output_type": "stream",
     "text": [
      "<class 'pandas.core.frame.DataFrame'>\n",
      "RangeIndex: 1415 entries, 0 to 1414\n",
      "Data columns (total 9 columns):\n",
      " #   Column             Non-Null Count  Dtype         \n",
      "---  ------             --------------  -----         \n",
      " 0   country_iso        1415 non-null   object        \n",
      " 1   locality           1415 non-null   object        \n",
      " 2   latitude           1415 non-null   float64       \n",
      " 3   longitude          1415 non-null   float64       \n",
      " 4   date               1415 non-null   datetime64[ns]\n",
      " 5   sampling_duration  1415 non-null   float64       \n",
      " 6   I131_conc          1415 non-null   float64       \n",
      " 7   Cs134_conc         1415 non-null   float64       \n",
      " 8   Cs137_conc         1415 non-null   float64       \n",
      "dtypes: datetime64[ns](1), float64(6), object(2)\n",
      "memory usage: 99.6+ KB\n"
     ]
    }
   ],
   "source": [
    "df[['I131_conc', 'Cs134_conc', 'Cs137_conc']] = df[['I131_conc', 'Cs134_conc', 'Cs137_conc']].astype('float')\n",
    "df.info()"
   ]
  },
  {
   "cell_type": "markdown",
   "id": "6cb4716d",
   "metadata": {},
   "source": [
    "## Add Distance Column\n",
    "\n",
    "A column that will likely be interesting to add to this dataframe is the acutal distance each site is from the Chernobyl Nuclear reactor. Another quick Google search reveals that its location is 51°23′23″N, 30°5′58″E. To get the distance between each site and the reactor, we can use the Pythagorean theorem. While this won't be exact due to the fact that the surface of the earth is curved, it should give a relative measure of the distance between the reactor and different localities. The code in the cell below calculates this new field, `dist_to_reactor`:"
   ]
  },
  {
   "cell_type": "code",
   "execution_count": 13,
   "id": "622815f4",
   "metadata": {},
   "outputs": [
    {
     "data": {
      "text/html": [
       "<div>\n",
       "<style scoped>\n",
       "    .dataframe tbody tr th:only-of-type {\n",
       "        vertical-align: middle;\n",
       "    }\n",
       "\n",
       "    .dataframe tbody tr th {\n",
       "        vertical-align: top;\n",
       "    }\n",
       "\n",
       "    .dataframe thead th {\n",
       "        text-align: right;\n",
       "    }\n",
       "</style>\n",
       "<table border=\"1\" class=\"dataframe\">\n",
       "  <thead>\n",
       "    <tr style=\"text-align: right;\">\n",
       "      <th></th>\n",
       "      <th>country_iso</th>\n",
       "      <th>locality</th>\n",
       "      <th>latitude</th>\n",
       "      <th>longitude</th>\n",
       "      <th>date</th>\n",
       "      <th>sampling_duration</th>\n",
       "      <th>I131_conc</th>\n",
       "      <th>Cs134_conc</th>\n",
       "      <th>Cs137_conc</th>\n",
       "      <th>dist_to_reactor</th>\n",
       "    </tr>\n",
       "  </thead>\n",
       "  <tbody>\n",
       "    <tr>\n",
       "      <th>0</th>\n",
       "      <td>DE</td>\n",
       "      <td>RISOE</td>\n",
       "      <td>12.07</td>\n",
       "      <td>55.7</td>\n",
       "      <td>1986-04-27</td>\n",
       "      <td>24.0</td>\n",
       "      <td>1.00000</td>\n",
       "      <td>0.00000</td>\n",
       "      <td>0.24000</td>\n",
       "      <td>46.647989</td>\n",
       "    </tr>\n",
       "    <tr>\n",
       "      <th>1</th>\n",
       "      <td>DE</td>\n",
       "      <td>RISOE</td>\n",
       "      <td>12.07</td>\n",
       "      <td>55.7</td>\n",
       "      <td>1986-04-28</td>\n",
       "      <td>24.0</td>\n",
       "      <td>0.00460</td>\n",
       "      <td>0.00054</td>\n",
       "      <td>0.00098</td>\n",
       "      <td>46.647989</td>\n",
       "    </tr>\n",
       "    <tr>\n",
       "      <th>2</th>\n",
       "      <td>DE</td>\n",
       "      <td>RISOE</td>\n",
       "      <td>12.07</td>\n",
       "      <td>55.7</td>\n",
       "      <td>1986-04-29</td>\n",
       "      <td>12.0</td>\n",
       "      <td>0.01470</td>\n",
       "      <td>0.00430</td>\n",
       "      <td>0.00740</td>\n",
       "      <td>46.647989</td>\n",
       "    </tr>\n",
       "    <tr>\n",
       "      <th>3</th>\n",
       "      <td>DE</td>\n",
       "      <td>RISOE</td>\n",
       "      <td>12.07</td>\n",
       "      <td>55.7</td>\n",
       "      <td>1986-04-29</td>\n",
       "      <td>12.0</td>\n",
       "      <td>0.00061</td>\n",
       "      <td>0.00000</td>\n",
       "      <td>0.00009</td>\n",
       "      <td>46.647989</td>\n",
       "    </tr>\n",
       "    <tr>\n",
       "      <th>4</th>\n",
       "      <td>DE</td>\n",
       "      <td>RISOE</td>\n",
       "      <td>12.07</td>\n",
       "      <td>55.7</td>\n",
       "      <td>1986-04-30</td>\n",
       "      <td>24.0</td>\n",
       "      <td>0.00075</td>\n",
       "      <td>0.00010</td>\n",
       "      <td>0.00028</td>\n",
       "      <td>46.647989</td>\n",
       "    </tr>\n",
       "  </tbody>\n",
       "</table>\n",
       "</div>"
      ],
      "text/plain": [
       "  country_iso locality  latitude  longitude       date  sampling_duration  \\\n",
       "0          DE    RISOE     12.07       55.7 1986-04-27               24.0   \n",
       "1          DE    RISOE     12.07       55.7 1986-04-28               24.0   \n",
       "2          DE    RISOE     12.07       55.7 1986-04-29               12.0   \n",
       "3          DE    RISOE     12.07       55.7 1986-04-29               12.0   \n",
       "4          DE    RISOE     12.07       55.7 1986-04-30               24.0   \n",
       "\n",
       "   I131_conc  Cs134_conc  Cs137_conc  dist_to_reactor  \n",
       "0    1.00000     0.00000     0.24000        46.647989  \n",
       "1    0.00460     0.00054     0.00098        46.647989  \n",
       "2    0.01470     0.00430     0.00740        46.647989  \n",
       "3    0.00061     0.00000     0.00009        46.647989  \n",
       "4    0.00075     0.00010     0.00028        46.647989  "
      ]
     },
     "execution_count": 13,
     "metadata": {},
     "output_type": "execute_result"
    }
   ],
   "source": [
    "df['dist_to_reactor'] = np.sqrt((51-df['latitude'])**2+(30-df['longitude'])**2)\n",
    "df.head()"
   ]
  },
  {
   "cell_type": "markdown",
   "id": "ca5d52de",
   "metadata": {},
   "source": [
    "# Analysis\n",
    "\n",
    "Now that the data has been cleaned, we can begin to analyze it. \n",
    "\n",
    "## Average Radioactivity Concentration Over Time (Plot 1)\n",
    "\n",
    "Firstly, one can expect that over time the concentractions of radioactive isotopes in the air will begin to dissapate. This assumption is checked in the cell below, which plots the average radioactive isotope concentration from all locations over time:"
   ]
  },
  {
   "cell_type": "code",
   "execution_count": 14,
   "id": "4f5e3517",
   "metadata": {},
   "outputs": [
    {
     "data": {
      "text/html": [
       "<div>\n",
       "<style scoped>\n",
       "    .dataframe tbody tr th:only-of-type {\n",
       "        vertical-align: middle;\n",
       "    }\n",
       "\n",
       "    .dataframe tbody tr th {\n",
       "        vertical-align: top;\n",
       "    }\n",
       "\n",
       "    .dataframe thead th {\n",
       "        text-align: right;\n",
       "    }\n",
       "</style>\n",
       "<table border=\"1\" class=\"dataframe\">\n",
       "  <thead>\n",
       "    <tr style=\"text-align: right;\">\n",
       "      <th></th>\n",
       "      <th>date</th>\n",
       "      <th>I131_conc</th>\n",
       "      <th>Cs134_conc</th>\n",
       "      <th>Cs137_conc</th>\n",
       "    </tr>\n",
       "  </thead>\n",
       "  <tbody>\n",
       "    <tr>\n",
       "      <th>0</th>\n",
       "      <td>1986-04-27</td>\n",
       "      <td>1.000000</td>\n",
       "      <td>0.000000</td>\n",
       "      <td>0.240000</td>\n",
       "    </tr>\n",
       "    <tr>\n",
       "      <th>1</th>\n",
       "      <td>1986-04-28</td>\n",
       "      <td>2.512368</td>\n",
       "      <td>0.667041</td>\n",
       "      <td>1.255278</td>\n",
       "    </tr>\n",
       "    <tr>\n",
       "      <th>2</th>\n",
       "      <td>1986-04-29</td>\n",
       "      <td>1.739326</td>\n",
       "      <td>0.118871</td>\n",
       "      <td>0.631713</td>\n",
       "    </tr>\n",
       "    <tr>\n",
       "      <th>3</th>\n",
       "      <td>1986-04-30</td>\n",
       "      <td>4.540923</td>\n",
       "      <td>0.536836</td>\n",
       "      <td>1.199730</td>\n",
       "    </tr>\n",
       "    <tr>\n",
       "      <th>4</th>\n",
       "      <td>1986-05-01</td>\n",
       "      <td>6.496007</td>\n",
       "      <td>0.693154</td>\n",
       "      <td>1.724205</td>\n",
       "    </tr>\n",
       "  </tbody>\n",
       "</table>\n",
       "</div>"
      ],
      "text/plain": [
       "        date  I131_conc  Cs134_conc  Cs137_conc\n",
       "0 1986-04-27   1.000000    0.000000    0.240000\n",
       "1 1986-04-28   2.512368    0.667041    1.255278\n",
       "2 1986-04-29   1.739326    0.118871    0.631713\n",
       "3 1986-04-30   4.540923    0.536836    1.199730\n",
       "4 1986-05-01   6.496007    0.693154    1.724205"
      ]
     },
     "execution_count": 14,
     "metadata": {},
     "output_type": "execute_result"
    }
   ],
   "source": [
    "conc_fields = ['I131_conc', 'Cs134_conc', 'Cs137_conc', 'date']\n",
    "plt_data1 = df[conc_fields].groupby(['date']).mean().reset_index()\n",
    "plt_data1.head()"
   ]
  },
  {
   "cell_type": "code",
   "execution_count": 15,
   "id": "6cb252ea",
   "metadata": {},
   "outputs": [
    {
     "data": {
      "image/png": "[encoded data removed]",
      "text/plain": [
       "<Figure size 864x576 with 1 Axes>"
      ]
     },
     "metadata": {
      "needs_background": "light"
     },
     "output_type": "display_data"
    }
   ],
   "source": [
    "plt.figure(figsize=(12,8))\n",
    "plt.plot(plt_data1.date, plt_data1.I131_conc, label = 'I-131 Concentraion')\n",
    "plt.plot(plt_data1.date, plt_data1.Cs134_conc, label = 'Cs-134 Concentraion')\n",
    "plt.plot(plt_data1.date, plt_data1.Cs137_conc, label = 'CS-137 Concentraion')\n",
    "plt.xticks(rotation=45)\n",
    "plt.xlabel('Date', fontweight='bold')\n",
    "plt.ylabel('Concentration (Br/m^3)', fontweight='bold')\n",
    "plt.title('Average Radioactive Isotope Concentraion Over Time', fontweight='bold')\n",
    "plt.xlim([datetime.date(1986, 4, 25), datetime.date(1986, 6, 1)])\n",
    "plt.ylim(-0.5, 7)\n",
    "plt.text(datetime.date(1986, 4, 26), 2, 'Date of Chernobyl Reactor Meltdown', rotation=90, size=10)\n",
    "plt.vlines(x=datetime.date(1986, 4, 26), ymin=-1, ymax=1.9, colors='black', ls='--')\n",
    "plt.vlines(x=datetime.date(1986, 4, 26), ymin=5.15, ymax=7, colors='black', ls='--')\n",
    "plt.grid()\n",
    "plt.legend(loc='center right')\n",
    "plt.xticks\n",
    "plt.show()"
   ]
  },
  {
   "cell_type": "markdown",
   "id": "65bf63a4",
   "metadata": {},
   "source": [
    "We see in the above image that in the days immediately following the Chernobyl disaster, the average concentration of radioactive isotopes in the air in areas surrounding the nuclear reactor increased dramatically. However, after a month and a half or so, many of the areas saw concentrations return to normal levels in the air. "
   ]
  },
  {
   "cell_type": "markdown",
   "id": "43b6d1db",
   "metadata": {},
   "source": [
    "## Average Radioactivity Concentration By Distance from Reactor\n",
    "\n",
    "Another reasonable assumption about the data is that countries or localities farther away from the nuclear reactor will have a more minimal impact on the level of radioactive isotope concentration in the air. The cell below creates a plot to check this:"
   ]
  },
  {
   "cell_type": "code",
   "execution_count": 16,
   "id": "e9e417f4",
   "metadata": {},
   "outputs": [
    {
     "data": {
      "text/html": [
       "<div>\n",
       "<style scoped>\n",
       "    .dataframe tbody tr th:only-of-type {\n",
       "        vertical-align: middle;\n",
       "    }\n",
       "\n",
       "    .dataframe tbody tr th {\n",
       "        vertical-align: top;\n",
       "    }\n",
       "\n",
       "    .dataframe thead th {\n",
       "        text-align: right;\n",
       "    }\n",
       "</style>\n",
       "<table border=\"1\" class=\"dataframe\">\n",
       "  <thead>\n",
       "    <tr style=\"text-align: right;\">\n",
       "      <th></th>\n",
       "      <th>dist_to_reactor</th>\n",
       "      <th>I131_conc</th>\n",
       "      <th>Cs134_conc</th>\n",
       "      <th>Cs137_conc</th>\n",
       "    </tr>\n",
       "  </thead>\n",
       "  <tbody>\n",
       "    <tr>\n",
       "      <th>0</th>\n",
       "      <td>12.796582</td>\n",
       "      <td>0.661500</td>\n",
       "      <td>0.154</td>\n",
       "      <td>0.275000</td>\n",
       "    </tr>\n",
       "    <tr>\n",
       "      <th>1</th>\n",
       "      <td>13.138409</td>\n",
       "      <td>0.340000</td>\n",
       "      <td>0.047</td>\n",
       "      <td>1.100000</td>\n",
       "    </tr>\n",
       "    <tr>\n",
       "      <th>2</th>\n",
       "      <td>15.701777</td>\n",
       "      <td>0.614000</td>\n",
       "      <td>0.128</td>\n",
       "      <td>0.200000</td>\n",
       "    </tr>\n",
       "    <tr>\n",
       "      <th>3</th>\n",
       "      <td>28.371260</td>\n",
       "      <td>1.444800</td>\n",
       "      <td>0.000</td>\n",
       "      <td>0.404800</td>\n",
       "    </tr>\n",
       "    <tr>\n",
       "      <th>4</th>\n",
       "      <td>29.982505</td>\n",
       "      <td>1.129444</td>\n",
       "      <td>0.000</td>\n",
       "      <td>0.341111</td>\n",
       "    </tr>\n",
       "  </tbody>\n",
       "</table>\n",
       "</div>"
      ],
      "text/plain": [
       "   dist_to_reactor  I131_conc  Cs134_conc  Cs137_conc\n",
       "0        12.796582   0.661500       0.154    0.275000\n",
       "1        13.138409   0.340000       0.047    1.100000\n",
       "2        15.701777   0.614000       0.128    0.200000\n",
       "3        28.371260   1.444800       0.000    0.404800\n",
       "4        29.982505   1.129444       0.000    0.341111"
      ]
     },
     "execution_count": 16,
     "metadata": {},
     "output_type": "execute_result"
    }
   ],
   "source": [
    "conc_fields = ['I131_conc', 'Cs134_conc', 'Cs137_conc', 'dist_to_reactor']\n",
    "plt_data2 = df[conc_fields].groupby(['dist_to_reactor']).mean().reset_index()\n",
    "plt_data2.head()"
   ]
  },
  {
   "cell_type": "code",
   "execution_count": 17,
   "id": "a4aef3d7",
   "metadata": {},
   "outputs": [
    {
     "data": {
      "image/png": "[encoded data removed]",
      "text/plain": [
       "<Figure size 864x576 with 1 Axes>"
      ]
     },
     "metadata": {
      "needs_background": "light"
     },
     "output_type": "display_data"
    }
   ],
   "source": [
    "plt.figure(figsize=(12,8))\n",
    "plt.scatter(plt_data2.dist_to_reactor, plt_data2.I131_conc, alpha=0.5, label = 'I-131 Concentraion')\n",
    "plt.scatter(plt_data2.dist_to_reactor, plt_data2.Cs134_conc, alpha=0.5, label = 'Cs-134 Concentraion')\n",
    "plt.scatter(plt_data2.dist_to_reactor, plt_data2.Cs137_conc, alpha=0.5, label = 'CS-137 Concentraion')\n",
    "plt.xticks(rotation=45)\n",
    "plt.xlabel('Distnace to Reactor (Relative)', fontweight='bold')\n",
    "plt.ylabel('Concentration (Br/m^3)', fontweight='bold')\n",
    "plt.title('Average Radioactive Isotope Concentraion By Distance', fontweight='bold')\n",
    "plt.grid()\n",
    "plt.legend()\n",
    "plt.xticks\n",
    "plt.show()"
   ]
  },
  {
   "cell_type": "markdown",
   "id": "4623493f",
   "metadata": {},
   "source": [
    "Surprisingly, the plot above shows that there does not appear to be any real correlation between distance from the reactor and radioactive isotope concentration. This could be do to the fact that radition doesn't really dissipate in the air, more just spreads and moves in plumes depending on a multitude of factors. It could also be due to the fact that our distance measurement was more of an estimate, and could be more precise in the way it handles longitude and latitude. Lastly, it could also be that the data doesn't include air quality measurements from countries that are outside the immediate vicinity of the reactor."
   ]
  },
  {
   "cell_type": "markdown",
   "id": "9327b9f2",
   "metadata": {},
   "source": [
    "## Maximum Radition Measure By Country\n",
    "\n",
    "The plot below determines the maximum radioactive isotope concentration measured in each country, and displays them on a bar graph. Note that in this case only a single isotope was used, Cs-134."
   ]
  },
  {
   "cell_type": "code",
   "execution_count": 18,
   "id": "e5e2e729",
   "metadata": {},
   "outputs": [
    {
     "data": {
      "text/html": [
       "<div>\n",
       "<style scoped>\n",
       "    .dataframe tbody tr th:only-of-type {\n",
       "        vertical-align: middle;\n",
       "    }\n",
       "\n",
       "    .dataframe tbody tr th {\n",
       "        vertical-align: top;\n",
       "    }\n",
       "\n",
       "    .dataframe thead th {\n",
       "        text-align: right;\n",
       "    }\n",
       "</style>\n",
       "<table border=\"1\" class=\"dataframe\">\n",
       "  <thead>\n",
       "    <tr style=\"text-align: right;\">\n",
       "      <th></th>\n",
       "      <th>country_iso</th>\n",
       "      <th>Cs134_conc</th>\n",
       "    </tr>\n",
       "  </thead>\n",
       "  <tbody>\n",
       "    <tr>\n",
       "      <th>8</th>\n",
       "      <td>GR</td>\n",
       "      <td>0.0000</td>\n",
       "    </tr>\n",
       "    <tr>\n",
       "      <th>12</th>\n",
       "      <td>NO</td>\n",
       "      <td>0.0000</td>\n",
       "    </tr>\n",
       "    <tr>\n",
       "      <th>5</th>\n",
       "      <td>ES</td>\n",
       "      <td>0.0481</td>\n",
       "    </tr>\n",
       "    <tr>\n",
       "      <th>9</th>\n",
       "      <td>HU</td>\n",
       "      <td>0.8000</td>\n",
       "    </tr>\n",
       "    <tr>\n",
       "      <th>13</th>\n",
       "      <td>SE</td>\n",
       "      <td>0.9350</td>\n",
       "    </tr>\n",
       "  </tbody>\n",
       "</table>\n",
       "</div>"
      ],
      "text/plain": [
       "   country_iso  Cs134_conc\n",
       "8           GR      0.0000\n",
       "12          NO      0.0000\n",
       "5           ES      0.0481\n",
       "9           HU      0.8000\n",
       "13          SE      0.9350"
      ]
     },
     "execution_count": 18,
     "metadata": {},
     "output_type": "execute_result"
    }
   ],
   "source": [
    "conc_fields = ['Cs134_conc', 'country_iso']\n",
    "plt_data3 = df[conc_fields].groupby(['country_iso']).max().reset_index().sort_values('Cs134_conc')\n",
    "plt_data3.head()"
   ]
  },
  {
   "cell_type": "code",
   "execution_count": 19,
   "id": "fc668e23",
   "metadata": {},
   "outputs": [
    {
     "data": {
      "image/png": "[encoded data removed]",
      "text/plain": [
       "<Figure size 864x576 with 1 Axes>"
      ]
     },
     "metadata": {
      "needs_background": "light"
     },
     "output_type": "display_data"
    }
   ],
   "source": [
    "plt.figure(figsize=(12,8))\n",
    "plt.bar(plt_data3.country_iso, plt_data3.Cs134_conc, label = 'I-131 Concentraion')\n",
    "plt.xticks(rotation=45)\n",
    "plt.xlabel('Distnace (Relative)', fontweight='bold')\n",
    "plt.ylabel('Concentration (Br/m^3)', fontweight='bold')\n",
    "plt.title('Maximum Cs-134 Concentraion By Country', fontweight='bold')\n",
    "plt.grid()\n",
    "plt.legend()\n",
    "plt.xticks\n",
    "plt.show()"
   ]
  },
  {
   "cell_type": "markdown",
   "id": "d30632a6",
   "metadata": {},
   "source": [
    "Based on the bar chart, Austria and Finland were the countries to witness the highest Cs-134 concentrations. This aligns with the information presented in graphic shown below, which provides an estimate of the radition spread conducted by the United Nations Enviornmental Program. \n",
    "\n",
    "![alternative text](Radiation_Spread.jpeg)\n"
   ]
  },
  {
   "cell_type": "markdown",
   "id": "518ad885",
   "metadata": {},
   "source": [
    "# Conclusion\n",
    "\n",
    "Based off the results of the above graphics, we can clearly see the immediate impact that the Chernobyl distaster had on the air quality of the surrounding regions: in the days following the event, radioactive isotope concentrations in the air increased dramatically. However, it is also clear from the above that distance from the reactor was not the only factor is determining how significant the radiation exposure would become, with suspected variables such as wind direction, temperature, and topology also likely being noteworthy factors."
   ]
  },
  {
   "cell_type": "markdown",
   "id": "356df510",
   "metadata": {},
   "source": [
    "# Recreate Graphics In Seaborn\n",
    "\n",
    "For the purposes of this assignment, the following cells show how to recreate each of the above plots using the `seaborn` package. \n",
    "\n",
    "## Plot 1"
   ]
  },
  {
   "cell_type": "code",
   "execution_count": 20,
   "id": "7e755494",
   "metadata": {},
   "outputs": [],
   "source": [
    "import seaborn as sns"
   ]
  },
  {
   "cell_type": "code",
   "execution_count": 21,
   "id": "c0c69149",
   "metadata": {},
   "outputs": [
    {
     "data": {
      "image/png": "[encoded data removed]",
      "text/plain": [
       "<Figure size 720x576 with 1 Axes>"
      ]
     },
     "metadata": {
      "needs_background": "light"
     },
     "output_type": "display_data"
    }
   ],
   "source": [
    "plt_data1_sns = pd.melt(plt_data1, id_vars='date', value_vars=['I131_conc', 'Cs134_conc', 'Cs137_conc'])\n",
    "\n",
    "plt.figure(figsize=(10,8))\n",
    "ax = sns.lineplot(data=plt_data1_sns, x=\"date\", y=\"value\", hue='variable')\n",
    "\n",
    "#specfiy axis labels, xy lims\n",
    "ax.set(xlabel='Date',\n",
    "       ylabel='Concentration (Br/m^3)',\n",
    "       title='Average Radioactive Isotope Concentraion Over Time',\n",
    "       ylim=(-0.5, 7),\n",
    "       xlim=([datetime.date(1986, 4, 25), datetime.date(1986, 6, 1)]))\n",
    "\n",
    "# still have to do folllowing using matplotlib functions\n",
    "plt.xticks(rotation=45)\n",
    "plt.text(datetime.date(1986, 4, 26), 2, 'Date of Chernobyl Reactor Meltdown', rotation=90, size=10)\n",
    "plt.vlines(x=datetime.date(1986, 4, 26), ymin=-1, ymax=1.9, colors='black', ls='--')\n",
    "plt.vlines(x=datetime.date(1986, 4, 26), ymin=5.15, ymax=7, colors='black', ls='--')\n",
    "plt.grid()\n",
    "plt.show()"
   ]
  },
  {
   "cell_type": "markdown",
   "id": "ec3d3a45",
   "metadata": {},
   "source": [
    "## Plot 2"
   ]
  },
  {
   "cell_type": "code",
   "execution_count": 22,
   "id": "38b4ba79",
   "metadata": {},
   "outputs": [
    {
     "data": {
      "image/png": "[encoded data removed]",
      "text/plain": [
       "<Figure size 720x576 with 1 Axes>"
      ]
     },
     "metadata": {
      "needs_background": "light"
     },
     "output_type": "display_data"
    }
   ],
   "source": [
    "plt_data2_sns = pd.melt(plt_data2, id_vars='dist_to_reactor', value_vars=['I131_conc', 'Cs134_conc', 'Cs137_conc'])\n",
    "\n",
    "plt.figure(figsize=(10,8))\n",
    "ax = sns.scatterplot(data=plt_data2_sns, x=\"dist_to_reactor\", y=\"value\", hue='variable', alpha=0.5)\n",
    "\n",
    "# specfiy axis labels\n",
    "ax.set(xlabel='Distance to Reactor (Relative)',\n",
    "       ylabel='Concentration (Br/m^3)',\n",
    "       title='Average Radioactive Isotope Concentraion By Distance')\n",
    "\n",
    "# still have to do folllowing using matplotlib functions\n",
    "plt.grid()\n",
    "plt.show()"
   ]
  },
  {
   "cell_type": "markdown",
   "id": "3dc73aad",
   "metadata": {},
   "source": [
    "## Plot 3"
   ]
  },
  {
   "cell_type": "code",
   "execution_count": 23,
   "id": "5a94a3f1",
   "metadata": {},
   "outputs": [
    {
     "data": {
      "image/png": "[encoded data removed]",
      "text/plain": [
       "<Figure size 864x576 with 1 Axes>"
      ]
     },
     "metadata": {
      "needs_background": "light"
     },
     "output_type": "display_data"
    }
   ],
   "source": [
    "plt.figure(figsize=(12,8))\n",
    "ax = sns.barplot(data=plt_data3, x=\"country_iso\", y='Cs134_conc')\n",
    "\n",
    "ax.set(xlabel='Country',\n",
    "       ylabel='Concentration (Br/m^3)',\n",
    "       title='Maximum Cs-134 Concentraion By Country')\n",
    "\n",
    "# still have to do folllowing using matplotlib functions\n",
    "plt.grid()\n",
    "plt.show()"
   ]
  },
  {
   "cell_type": "markdown",
   "id": "8ada2da4",
   "metadata": {},
   "source": [
    "## Comparision Between Matplotlib and Seaborn\n",
    "\n",
    "Based off the experience of creating the same plots in both matplotlib and seaborn, here are a few takeaways:\n",
    "\n",
    "* Plotting the actual data on the plot seems to be easier in Seaborn, with arguments like `hue` enabling you to easily group data and show multiple lines, bars, etc on the same graph with automated legend creation. \n",
    "* However, when it comes to the nitty-gritty (i.e. adding gridlines, annotations, font changes) matplotlib is still required. It provides one with the ability to fine tune visualizations to fit the needs of the presenter. \n"
   ]
  }
 ],
 "metadata": {
  "kernelspec": {
   "display_name": "Python 3 (ipykernel)",
   "language": "python",
   "name": "python3"
  },
  "language_info": {
   "codemirror_mode": {
    "name": "ipython",
    "version": 3
   },
   "file_extension": ".py",
   "mimetype": "text/x-python",
   "name": "python",
   "nbconvert_exporter": "python",
   "pygments_lexer": "ipython3",
   "version": "3.9.12"
  }
 },
 "nbformat": 4,
 "nbformat_minor": 5
}
