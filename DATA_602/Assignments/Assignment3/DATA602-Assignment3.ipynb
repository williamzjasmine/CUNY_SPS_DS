{
 "cells": [
  {
   "cell_type": "markdown",
   "id": "79264838",
   "metadata": {},
   "source": [
    "# Data 602 Assignment 3"
   ]
  },
  {
   "cell_type": "markdown",
   "id": "114de051",
   "metadata": {},
   "source": [
    "## Question 1\n",
    "\n",
    "Write a program that prompts the user for a meal: breakfast, lunch, or dinner. Then using if statements and else statements print the user a message recommending a meal. For example, if the meal was breakfast, you could say something like, “How about some bacon and eggs?” The user may enter something else in, but you only have to respond to breakfast, lunch, or dinner."
   ]
  },
  {
   "cell_type": "code",
   "execution_count": 1,
   "id": "3204b1b4",
   "metadata": {},
   "outputs": [],
   "source": [
    "def recommend_meal():\n",
    "    meal_choice = input('What meal are you eating?\\n').lower()\n",
    "    if meal_choice == 'breakfast':\n",
    "        print('How about some bacon and eggs?')\n",
    "    elif meal_choice == 'lunch':\n",
    "        print('How about a turkey sandwich?')\n",
    "    elif meal_choice == 'dinner':\n",
    "        print('How about some chicken tacos?')\n",
    "    else:\n",
    "        print('Hmmm, I don\\'t know that meal choice, try again...')"
   ]
  },
  {
   "cell_type": "code",
   "execution_count": 2,
   "id": "8b89948d",
   "metadata": {},
   "outputs": [
    {
     "ename": "TypeError",
     "evalue": "recommend_meal() takes 0 positional arguments but 1 was given",
     "output_type": "error",
     "traceback": [
      "\u001b[0;31m---------------------------------------------------------------------------\u001b[0m",
      "\u001b[0;31mTypeError\u001b[0m                                 Traceback (most recent call last)",
      "Input \u001b[0;32mIn [2]\u001b[0m, in \u001b[0;36m<cell line: 1>\u001b[0;34m()\u001b[0m\n\u001b[0;32m----> 1\u001b[0m \u001b[38;5;28mprint\u001b[39m(\u001b[43mrecommend_meal\u001b[49m\u001b[43m(\u001b[49m\u001b[38;5;124;43m'\u001b[39;49m\u001b[38;5;124;43mDinner\u001b[39;49m\u001b[38;5;124;43m'\u001b[39;49m\u001b[43m)\u001b[49m)\n\u001b[1;32m      2\u001b[0m \u001b[38;5;28mprint\u001b[39m(recommend_mean(\u001b[38;5;124m'\u001b[39m\u001b[38;5;124mbrunch\u001b[39m\u001b[38;5;124m'\u001b[39m))\n",
      "\u001b[0;31mTypeError\u001b[0m: recommend_meal() takes 0 positional arguments but 1 was given"
     ]
    }
   ],
   "source": [
    "recommend_meal()"
   ]
  },
  {
   "cell_type": "code",
   "execution_count": null,
   "id": "7dc5a1b0",
   "metadata": {},
   "outputs": [],
   "source": []
  },
  {
   "cell_type": "markdown",
   "id": "f4752d3a",
   "metadata": {},
   "source": [
    "## Question 2 \n",
    "\n",
    "The mailroom has asked you to design a simple payroll program that calculates a student employee’s gross pay, including any overtime wages. If any employee works over 20 hours in a week, the mailroom pays them 1.5 times their regular hourly pay rate for all hours over 20. You should take in the user’s input for the number of hours worked, and their rate of pay."
   ]
  },
  {
   "cell_type": "code",
   "execution_count": null,
   "id": "c6d345b6",
   "metadata": {},
   "outputs": [],
   "source": [
    "def calc_pay(hours, wage):\n",
    "    if hours > 20:\n",
    "        return (hours - 20) * 1.5 * wage + (wage * 20)\n",
    "    else:\n",
    "        return hours * wage"
   ]
  },
  {
   "cell_type": "code",
   "execution_count": null,
   "id": "b05edc31",
   "metadata": {},
   "outputs": [],
   "source": [
    "print(calc_pay(15, 10))\n",
    "print(calc_pay(21, 10))"
   ]
  },
  {
   "cell_type": "markdown",
   "id": "022011d2",
   "metadata": {},
   "source": [
    "## Question 3\n",
    "\n",
    "Write a function named times_ten. The function should accept an argument and display the product of its argument multiplied times 10."
   ]
  },
  {
   "cell_type": "code",
   "execution_count": null,
   "id": "64ccef85",
   "metadata": {},
   "outputs": [],
   "source": [
    "def times_ten(x):\n",
    "    return 10 * x"
   ]
  },
  {
   "cell_type": "code",
   "execution_count": null,
   "id": "d6b84296",
   "metadata": {},
   "outputs": [],
   "source": [
    "times_ten(.4)"
   ]
  },
  {
   "cell_type": "markdown",
   "id": "700e160c",
   "metadata": {},
   "source": [
    "## Question 4\n",
    "\n",
    "Find the errors, debug the program, and then execute to show the output.\n",
    "\n",
    "```\n",
    "def main()\n",
    "      Calories1 = input( \"How many calories are in the first food?\")\n",
    "      Calories2 = input( \"How many calories are in the first food?\")\n",
    "      showCalories(calories1, calories2)\n",
    "\n",
    "def showCalories()   \n",
    "   print(“The total calories you ate today”, format(calories1 + calories2,.2f))\n",
    "```"
   ]
  },
  {
   "cell_type": "code",
   "execution_count": null,
   "id": "314c54c9",
   "metadata": {},
   "outputs": [],
   "source": [
    "def main():\n",
    "    calories1 = float(input( \"How many calories are in the first food? \"))\n",
    "    calories2 = float(input( \"How many calories are in the first food? \"))\n",
    "    showCalories(calories1, calories2)\n",
    "\n",
    "def showCalories(x, y):\n",
    "    print('The total calories you ate today', format(x + y, '.2f'))"
   ]
  },
  {
   "cell_type": "code",
   "execution_count": null,
   "id": "7589aad4",
   "metadata": {},
   "outputs": [],
   "source": [
    "main()"
   ]
  },
  {
   "cell_type": "markdown",
   "id": "a3a77de6",
   "metadata": {},
   "source": [
    "## Question 5\n",
    "\n",
    "Write a program that uses any loop (while or for) that calculates the total of the following series of numbers:\n",
    "1/30 + 2/29 + 3/28 ............. + 30/1\n"
   ]
  },
  {
   "cell_type": "code",
   "execution_count": null,
   "id": "1289f6ae",
   "metadata": {},
   "outputs": [],
   "source": [
    "total = 0\n",
    "for i in range(1, 31):\n",
    "    total += (i / (30-(i-1)))\n",
    "print(total)"
   ]
  },
  {
   "cell_type": "markdown",
   "id": "12cbe6e1",
   "metadata": {},
   "source": [
    "## Question 6\n",
    "\n",
    "Write a function that computes the area of a triangle given its base and height. "
   ]
  },
  {
   "cell_type": "code",
   "execution_count": null,
   "id": "e08bb2cf",
   "metadata": {},
   "outputs": [],
   "source": [
    "def area_triangle(b, h):\n",
    "    return 0.5 * b * h"
   ]
  },
  {
   "cell_type": "code",
   "execution_count": null,
   "id": "0d808eb9",
   "metadata": {},
   "outputs": [],
   "source": [
    "area_triangle(5, 4)"
   ]
  },
  {
   "cell_type": "code",
   "execution_count": null,
   "id": "a9f1708b",
   "metadata": {},
   "outputs": [],
   "source": []
  }
 ],
 "metadata": {
  "kernelspec": {
   "display_name": "Python 3 (ipykernel)",
   "language": "python",
   "name": "python3"
  },
  "language_info": {
   "codemirror_mode": {
    "name": "ipython",
    "version": 3
   },
   "file_extension": ".py",
   "mimetype": "text/x-python",
   "name": "python",
   "nbconvert_exporter": "python",
   "pygments_lexer": "ipython3",
   "version": "3.9.12"
  }
 },
 "nbformat": 4,
 "nbformat_minor": 5
}
