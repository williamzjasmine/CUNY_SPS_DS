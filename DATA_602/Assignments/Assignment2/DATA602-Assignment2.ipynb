{
 "cells": [
  {
   "cell_type": "markdown",
   "id": "e894077a",
   "metadata": {},
   "source": [
    "# Data 602 - Assignment 2"
   ]
  },
  {
   "cell_type": "markdown",
   "id": "bb068347",
   "metadata": {},
   "source": [
    "## Question 1\n",
    "What will the following code display?\n",
    "\n",
    "```\n",
    "numbers = [1, 2, 3, 4, 5]\n",
    "print(numbers[1:-5])\n",
    "```\n",
    "\n",
    "Can you debug and fix the output? The code should return the entire list.\n",
    "\n",
    "----\n",
    "\n",
    "The code above won't output any list elements, since `numbers[1] = 2` (the second entry of the list) and equals 2, and `numbers[-5] = numbers[0] = 1` (the first entry of the list). Thus, `numbers[1:-5]` is the same as writing `numbers[1:0]`. Python will read the list from left to right, and since there are no elements to the right of `numbers[1]` and to the left of `numbers[0]`, the output of the above code will be an empty list. \n",
    "\n",
    "There are a multitude of ways to correctly output the entire list, some of which are included in the cell below:"
   ]
  },
  {
   "cell_type": "code",
   "execution_count": 1,
   "id": "6ccaddb2",
   "metadata": {},
   "outputs": [
    {
     "name": "stdout",
     "output_type": "stream",
     "text": [
      "[1, 2, 3, 4, 5]\n",
      "[1, 2, 3, 4, 5]\n",
      "[1, 2, 3, 4, 5]\n"
     ]
    }
   ],
   "source": [
    "numbers = [1, 2, 3, 4, 5]\n",
    "print(numbers)\n",
    "print(numbers[0:5])\n",
    "print(numbers[:5])"
   ]
  },
  {
   "cell_type": "markdown",
   "id": "08bd0fc0",
   "metadata": {},
   "source": [
    "## Question 2\n",
    "\n",
    "Design a program that asks the user to enter a store’s sales for each day of the week. The amounts should be stored in a list. Use a loop to calculate the total sales for the week and display the result."
   ]
  },
  {
   "cell_type": "code",
   "execution_count": 2,
   "id": "67f8c7bf",
   "metadata": {},
   "outputs": [],
   "source": [
    "def calc_sales():\n",
    "    input_sale = True\n",
    "    total_sale = 0\n",
    "    new_sale = ''\n",
    "    while input_sale is True:\n",
    "        try:\n",
    "            sale = float(input('Input value of sale: '))\n",
    "        except ValueError:\n",
    "            print('Your input could not be converted to a number. Try again.')\n",
    "            continue\n",
    "        total_sale += sale\n",
    "        while new_sale not in ['Y', 'N']:\n",
    "            new_sale = input('Include another sale (Y/N)? ')\n",
    "            if new_sale not in ['Y', 'N']:\n",
    "                print('Response should be one of either \"Y\" or \"N\"')\n",
    "        if new_sale == 'N':\n",
    "            input_sale = False\n",
    "        new_sale = ''\n",
    "        \n",
    "    print('Your total sales for the week were: %.2f' %total_sale)"
   ]
  },
  {
   "cell_type": "markdown",
   "id": "3c3689af",
   "metadata": {},
   "source": [
    "The `calc_sales()` function defined above can be used to ask a user to input weekly sales and will sum them together to print the output. The cell below shows example output of this function in use:"
   ]
  },
  {
   "cell_type": "code",
   "execution_count": 3,
   "id": "f813dd61",
   "metadata": {},
   "outputs": [
    {
     "name": "stdout",
     "output_type": "stream",
     "text": [
      "Input value of sale: 10 dollars\n",
      "Your input could not be converted to a number. Try again.\n",
      "Input value of sale: 10\n",
      "Include another sale (Y/N)? yes\n",
      "Response should be one of either \"Y\" or \"N\"\n",
      "Include another sale (Y/N)? Y\n",
      "Input value of sale: 5.75\n",
      "Include another sale (Y/N)? N\n",
      "Your total sales for the week were: 15.75\n"
     ]
    }
   ],
   "source": [
    "calc_sales()"
   ]
  },
  {
   "cell_type": "markdown",
   "id": "96bef067",
   "metadata": {},
   "source": [
    "## Question 3\n",
    "\n",
    "Create a list with at least 5 places you’d like to travel to. Make sure the list isn’t in alphabetical order. Then:\n",
    "\n",
    "- Print your list in its original order.\n",
    "- Use the sort() function to arrange your list in order and reprint your list.\n",
    "- Use the sort(reverse=True) and reprint your list."
   ]
  },
  {
   "cell_type": "code",
   "execution_count": 4,
   "id": "bc8c5e87",
   "metadata": {},
   "outputs": [
    {
     "name": "stdout",
     "output_type": "stream",
     "text": [
      "['Jordan', 'Japan', 'Mauritius', 'Croatia', 'Austrailia']\n",
      "['Austrailia', 'Croatia', 'Japan', 'Jordan', 'Mauritius']\n",
      "['Mauritius', 'Jordan', 'Japan', 'Croatia', 'Austrailia']\n"
     ]
    }
   ],
   "source": [
    "destinations = ['Jordan', 'Japan',  'Mauritius', 'Croatia', 'Austrailia']\n",
    "print(destinations)\n",
    "destinations.sort()\n",
    "print(destinations)\n",
    "destinations.sort(reverse=True)\n",
    "print(destinations)"
   ]
  },
  {
   "cell_type": "markdown",
   "id": "89280a07",
   "metadata": {},
   "source": [
    "## Question 4\n",
    "\n",
    "Write a program that creates a dictionary containing course numbers and the room numbers of the rooms where the courses meet. The program should also create a dictionary containing course numbers and the names of the instructors that teach each course. After that, the program should let the user enter a course number, then it should\n",
    "display the course’s room number, instructor, and meeting time."
   ]
  },
  {
   "cell_type": "code",
   "execution_count": 6,
   "id": "b7ce448b",
   "metadata": {},
   "outputs": [],
   "source": [
    "# Create a dictionary with some sample courses\n",
    "classes = {\n",
    "    'DATA602': {'Meeting Room': 'ONLINE', 'Meeting Time': 'TH 6:30PM-7:30PM', 'Instructor Name': 'Schettini, Nick'},\n",
    "    'PHYS101': {'Meeting Room': 'EXLEY505', 'Meeting Time': 'MWF 9:00AM-9:50AM', 'Instructor Name': 'Stewart, Brian'}\n",
    "}"
   ]
  },
  {
   "cell_type": "code",
   "execution_count": 8,
   "id": "e6c92bd0",
   "metadata": {},
   "outputs": [],
   "source": [
    "def update_course_catalog(classes_dict):\n",
    "    \n",
    "    course_number = input('Input the course category and number (i.e. DATA602): ')\n",
    "        \n",
    "    if course_number in classes_dict.keys():\n",
    "        \n",
    "        remove_course = ''\n",
    "        while remove_course not in ['Y', 'N']:\n",
    "            remove_course = input('This course already exists, would you like to remove it? (Y/N)? ')\n",
    "        if remove_course == 'Y':\n",
    "            del(classes_dict[course_number])\n",
    "            return\n",
    "        update_course = ''\n",
    "        while update_course not in ['Y', 'N']:\n",
    "            update_course = input('Would you like to update it? (Y/N)? ')\n",
    "        if update_course == 'N':\n",
    "            print('Exiting...')\n",
    "            return\n",
    "    \n",
    "    meeting_room = input('Input the course building and room number (i.e. EXLEY 505): ')\n",
    "    meeting_time = input('Input the meeting times (i.e. MWF 12:00PM-1:20PM): ')\n",
    "    instructor_name = input('Input the instructor name (i.e. Smith, John): ')\n",
    "    class_dict = {'Meeting Room': meeting_room, 'Meeting Time': meeting_time, 'Instructor Name': instructor_name}\n",
    "    classes_dict[course_number] = class_dict\n",
    "\n",
    "def get_class_info(classes_dict, course_number):\n",
    "    class_dict = classes_dict[course_number]\n",
    "    print('Location: %s' %class_dict['Meeting Room'])\n",
    "    print('Meeting Times: %s' %class_dict['Meeting Time'])\n",
    "    print('Instructor: %s' %class_dict['Instructor Name'])\n"
   ]
  },
  {
   "cell_type": "markdown",
   "id": "7bf5aa92",
   "metadata": {},
   "source": [
    "The cells above define a dictionary `classes` with some sample class data as well as the following two functions:\n",
    "\n",
    "`update_course_catalog()`: This function enables a user to add, update, or remove course information to a provided class dictionary by providing responses to given prompts. \n",
    "`get_class_info()`: This function enables a user to look up course information in the course catalog dictionary by providing a course number.\n",
    "\n",
    "The cells below show how this function can be used with the preexisting `classes` dictionary:"
   ]
  },
  {
   "cell_type": "code",
   "execution_count": 9,
   "id": "0ff6d7b5",
   "metadata": {},
   "outputs": [
    {
     "name": "stdout",
     "output_type": "stream",
     "text": [
      "Input the course category and number (i.e. DATA602): DANC201\n",
      "Input the course building and room number (i.e. EXLEY 505): OLIN303\n",
      "Input the meeting times (i.e. MWF 12:00PM-1:20PM): TTH 1:20PM-2:40PM\n",
      "Input the instructor name (i.e. Smith, John): Kolvico, Katya\n"
     ]
    }
   ],
   "source": [
    "update_course_catalog(classes_dict = classes)"
   ]
  },
  {
   "cell_type": "code",
   "execution_count": 11,
   "id": "e57e9ef3",
   "metadata": {},
   "outputs": [
    {
     "name": "stdout",
     "output_type": "stream",
     "text": [
      "Location: OLIN303\n",
      "Meeting Times: TTH 1:20PM-2:40PM\n",
      "Instructor: Kolvico, Katya\n"
     ]
    }
   ],
   "source": [
    "get_class_info(classes, 'DANC201')"
   ]
  },
  {
   "cell_type": "markdown",
   "id": "649f6994",
   "metadata": {},
   "source": [
    "## Question 5\n",
    "\n",
    "Write a program that keeps names and email addresses in a dictionary as key-value pairs. The program should then demonstrate the four options:\n",
    "\n",
    "- look up a person’s email address,\n",
    "- add a new name and email address,\n",
    "- change an existing email address, and\n",
    "- delete an existing name and email address"
   ]
  },
  {
   "cell_type": "code",
   "execution_count": 12,
   "id": "f430b99b",
   "metadata": {},
   "outputs": [],
   "source": [
    "address_book = {'jonny': 'jonny@gmail.com', 'sarah': 'freeeggs@aol.com'}\n",
    "\n",
    "def update_address_book(dex):\n",
    "    prompt = '''\n",
    "    \n",
    "    Select the input for what you would like to do:\n",
    "    1 - Look up email address\n",
    "    2 - add a new name and email address\n",
    "    3 - change an existing email address\n",
    "    4 - delete an existing name and email address\n",
    "    '''\n",
    "    name = input('Input name: ')\n",
    "    if name in dex.keys():\n",
    "        print('Currently stored email address: %s' %dex[name])\n",
    "        \n",
    "        delete_email = ''\n",
    "        while delete_email not in ['Y', 'N']:\n",
    "            delete_email = input('Would you like to remove this contact (Y/N)? ')\n",
    "        if delete_email == 'Y':\n",
    "            del(dex[name])\n",
    "            return \n",
    "        \n",
    "        update_email = ''\n",
    "        while update_email not in ['Y', 'N']:\n",
    "            update_email = input('Would you like to update this contact (Y/N)? ')\n",
    "        if update_email == 'N':\n",
    "            return \n",
    "        \n",
    "    email = input('Input email address: ')\n",
    "        \n",
    "    dex[name] = email\n",
    "    print('Contact information updated.')\n",
    "        \n"
   ]
  },
  {
   "cell_type": "markdown",
   "id": "6690a511",
   "metadata": {},
   "source": [
    "The cells above define a dictionary `address_book` with some sample name and email data as well as the following function:\n",
    "\n",
    "`update_address_book()`: This function enables a user to look up, add, update, or remove email information to a provided email dictionary by providing responses to given prompts. \n",
    "\n",
    "The cell below shows how this function can be used with the preexisting `address_book` dictionary:"
   ]
  },
  {
   "cell_type": "code",
   "execution_count": 16,
   "id": "689c87bc",
   "metadata": {},
   "outputs": [
    {
     "name": "stdout",
     "output_type": "stream",
     "text": [
      "Input name: jonny\n",
      "Currently stored email address: jonny@gmail.com\n",
      "Would you like to remove this contact (Y/N)? N\n",
      "Would you like to update this contact (Y/N)? N\n"
     ]
    }
   ],
   "source": [
    "# looking up an email address:\n",
    "update_address_book(address_book)"
   ]
  },
  {
   "cell_type": "code",
   "execution_count": 14,
   "id": "126df6a7",
   "metadata": {},
   "outputs": [
    {
     "name": "stdout",
     "output_type": "stream",
     "text": [
      "Input name: Tippy\n",
      "Input email address: tippythedog@yahoo.com\n",
      "Contact information updated.\n"
     ]
    }
   ],
   "source": [
    "# adding an email address:\n",
    "update_address_book(address_book)"
   ]
  },
  {
   "cell_type": "code",
   "execution_count": 17,
   "id": "79017cf1",
   "metadata": {},
   "outputs": [
    {
     "name": "stdout",
     "output_type": "stream",
     "text": [
      "Input name: Tippy\n",
      "Currently stored email address: tippythedog@yahoo.com\n",
      "Would you like to remove this contact (Y/N)? N\n",
      "Would you like to update this contact (Y/N)? Y\n",
      "Input email address: tippythegoodboy@yahoo.com\n",
      "Contact information updated.\n"
     ]
    }
   ],
   "source": [
    "# change an existing email address\n",
    "update_address_book(address_book)"
   ]
  },
  {
   "cell_type": "code",
   "execution_count": 18,
   "id": "3159ff2d",
   "metadata": {},
   "outputs": [
    {
     "name": "stdout",
     "output_type": "stream",
     "text": [
      "Input name: sarah\n",
      "Currently stored email address: freeeggs@aol.com\n",
      "Would you like to remove this contact (Y/N)? Y\n"
     ]
    }
   ],
   "source": [
    "# remove an existing email address\n",
    "update_address_book(address_book)"
   ]
  },
  {
   "cell_type": "code",
   "execution_count": 19,
   "id": "5d8838f7",
   "metadata": {},
   "outputs": [
    {
     "data": {
      "text/plain": [
       "{'jonny': 'jonny@gmail.com', 'Tippy': 'tippythegoodboy@yahoo.com'}"
      ]
     },
     "execution_count": 19,
     "metadata": {},
     "output_type": "execute_result"
    }
   ],
   "source": [
    "address_book"
   ]
  },
  {
   "cell_type": "code",
   "execution_count": null,
   "id": "763c7b31",
   "metadata": {},
   "outputs": [],
   "source": []
  }
 ],
 "metadata": {
  "kernelspec": {
   "display_name": "Python 3 (ipykernel)",
   "language": "python",
   "name": "python3"
  },
  "language_info": {
   "codemirror_mode": {
    "name": "ipython",
    "version": 3
   },
   "file_extension": ".py",
   "mimetype": "text/x-python",
   "name": "python",
   "nbconvert_exporter": "python",
   "pygments_lexer": "ipython3",
   "version": "3.9.12"
  }
 },
 "nbformat": 4,
 "nbformat_minor": 5
}
