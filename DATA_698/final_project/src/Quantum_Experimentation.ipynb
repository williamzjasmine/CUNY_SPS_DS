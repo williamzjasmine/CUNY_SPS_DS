{
 "cells": [
  {
   "cell_type": "markdown",
   "id": "7c04e2e0-44eb-44f7-91dc-5a959e887d1f",
   "metadata": {},
   "source": [
    "# Quantum Computing Experimentation\n",
    "\n",
    "The following is mostly a scratchspace used to test how to interact with the IBM Q backend and run jobs using their resources. It also doubles as a sandbox to experiment with quantum computing in general. Much of the code is adapted from the following [documentation](https://docs.quantum.ibm.com/guides/setup-channel#iqp).\n",
    "\n",
    "Note that the following was completed before this notebook was created:\n",
    "\n",
    "* install `qiskit`, `qiskit-ibm-runtime` and `qiskit[visualization]` using pip (preferably in a virtual environment).\n",
    "* Create an account on the [Quantum IBM platform](https://quantum.ibm.com/). Doing so will provide you with your own API key you can use to run jobs. Free users are entitled to 10 minutes/month of runtime using IBMQ's actual quantum computers.\n",
    "\n",
    "# Authenticating with IBM Quantum\n",
    "\n",
    "The following shows how to create and authenticate a runtime service that can be used to run jobs on the IBMQ backend. "
   ]
  },
  {
   "cell_type": "code",
   "execution_count": 10,
   "id": "f4260dfa-ebb7-4d03-be77-f391b9f01e8a",
   "metadata": {},
   "outputs": [
    {
     "name": "stdin",
     "output_type": "stream",
     "text": [
      "Enter IBMQ API Token:  ········\n"
     ]
    }
   ],
   "source": [
    "from qiskit_ibm_runtime import QiskitRuntimeService\n",
    "import getpass\n",
    "\n",
    "token = getpass.getpass(\"Enter IBMQ API Token: \")\n",
    "service = QiskitRuntimeService(channel=\"ibm_quantum\", token=token)"
   ]
  },
  {
   "cell_type": "markdown",
   "id": "41926d09-37d3-4ee1-991c-751ef1449b8a",
   "metadata": {},
   "source": [
    "# Running a Test Job on the IBM Backend\n",
    "\n",
    "The cell below runs a simple circuit using Sampler to ensure the environment is set up properly and that jobs can be sucessfully run on the IBMQ backend using the created `QiskitRunTimeService`."
   ]
  },
  {
   "cell_type": "code",
   "execution_count": 8,
   "id": "a68dacca-0d21-429f-8197-e7c10f30a852",
   "metadata": {},
   "outputs": [
    {
     "name": "stdout",
     "output_type": "stream",
     "text": [
      "job id: cx9xh8xztp30008g3kc0\n",
      "PrimitiveResult([SamplerPubResult(data=DataBin(meas=BitArray(<shape=(), num_shots=4096, num_bits=2>)), metadata={'circuit_metadata': {}})], metadata={'execution': {'execution_spans': ExecutionSpans([SliceSpan(<start='2024-12-07 05:09:58', stop='2024-12-07 05:10:10', size=4096>)])}, 'version': 2})\n"
     ]
    }
   ],
   "source": [
    "from qiskit import QuantumCircuit\n",
    "from qiskit_ibm_runtime import QiskitRuntimeService, SamplerV2 as Sampler\n",
    " \n",
    "# Create empty circuit\n",
    "example_circuit = QuantumCircuit(2)\n",
    "example_circuit.measure_all()\n",
    " \n",
    "# You'll need to specify the credentials when initializing QiskitRuntimeService, if they were not previously saved.\n",
    "backend = service.least_busy(operational=True, simulator=False)\n",
    " \n",
    "sampler = Sampler(backend)\n",
    "job = sampler.run([example_circuit])\n",
    "print(f\"job id: {job.job_id()}\")\n",
    "result = job.result()\n",
    "print(result)"
   ]
  },
  {
   "cell_type": "markdown",
   "id": "5e262007-8e40-4c36-9e0c-185f8b6a9e19",
   "metadata": {},
   "source": [
    "The job has run successfully. Checking the [Quantum IBM platform](https://quantum.ibm.com/) reveals that a workload has completed. "
   ]
  }
 ],
 "metadata": {
  "kernelspec": {
   "display_name": "Python 3 (ipykernel)",
   "language": "python",
   "name": "python3"
  },
  "language_info": {
   "codemirror_mode": {
    "name": "ipython",
    "version": 3
   },
   "file_extension": ".py",
   "mimetype": "text/x-python",
   "name": "python",
   "nbconvert_exporter": "python",
   "pygments_lexer": "ipython3",
   "version": "3.12.7"
  }
 },
 "nbformat": 4,
 "nbformat_minor": 5
}
